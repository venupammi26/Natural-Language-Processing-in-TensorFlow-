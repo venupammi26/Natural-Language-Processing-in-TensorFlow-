{
 "cells": [
  {
   "cell_type": "code",
   "execution_count": 1,
   "metadata": {},
   "outputs": [],
   "source": [
    "from tensorflow.keras.preprocessing.sequence import pad_sequences\n",
    "from tensorflow.keras.layers import Embedding, LSTM, Dense, Dropout, Bidirectional\n",
    "from tensorflow.keras.preprocessing.text import Tokenizer\n",
    "from tensorflow.keras.models import Sequential\n",
    "from tensorflow.keras.optimizers import Adam\n",
    "from tensorflow.keras import regularizers\n",
    "import tensorflow.keras.utils as ku \n",
    "import numpy as np "
   ]
  },
  {
   "cell_type": "code",
   "execution_count": 3,
   "metadata": {},
   "outputs": [
    {
     "name": "stdout",
     "output_type": "stream",
     "text": [
      "--2019-09-13 16:44:19--  https://storage.googleapis.com/laurencemoroney-blog.appspot.com/sonnets.txt\n",
      "Resolving storage.googleapis.com (storage.googleapis.com)... 172.217.13.80, 2607:f8b0:4004:808::2010\n",
      "Connecting to storage.googleapis.com (storage.googleapis.com)|172.217.13.80|:443... connected.\n",
      "HTTP request sent, awaiting response... 200 OK\n",
      "Length: 93578 (91K) [text/plain]\n",
      "Saving to: ‘/tmp/sonnets.txt’\n",
      "\n",
      "/tmp/sonnets.txt    100%[===================>]  91.38K  --.-KB/s    in 0.04s   \n",
      "\n",
      "2019-09-13 16:44:20 (2.49 MB/s) - ‘/tmp/sonnets.txt’ saved [93578/93578]\n",
      "\n"
     ]
    }
   ],
   "source": [
    "tokenizer = Tokenizer()\n",
    "!wget --no-check-certificate \\\n",
    "    https://storage.googleapis.com/laurencemoroney-blog.appspot.com/sonnets.txt \\\n",
    "    -O /tmp/sonnets.txt\n",
    "data = open('/tmp/sonnets.txt').read()"
   ]
  },
  {
   "cell_type": "code",
   "execution_count": 6,
   "metadata": {},
   "outputs": [],
   "source": [
    "corpus = data.lower().split(\"\\n\")\n",
    "tokenizer.fit_on_texts(corpus)\n",
    "total_words = len(tokenizer.word_index) + 1"
   ]
  },
  {
   "cell_type": "code",
   "execution_count": 11,
   "metadata": {},
   "outputs": [],
   "source": [
    "# create input sequences using list of tokens\n",
    "input_sequences = []\n",
    "for line in corpus:\n",
    "    token_list = tokenizer.texts_to_sequences([line])[0]\n",
    "    for i in range(1, len(token_list)):\n",
    "        n_gram_sequence = token_list[:i+1]\n",
    "        input_sequences.append(n_gram_sequence)"
   ]
  },
  {
   "cell_type": "code",
   "execution_count": 14,
   "metadata": {},
   "outputs": [
    {
     "data": {
      "text/plain": [
       "15462"
      ]
     },
     "execution_count": 14,
     "metadata": {},
     "output_type": "execute_result"
    }
   ],
   "source": [
    "len(input_sequences)"
   ]
  },
  {
   "cell_type": "code",
   "execution_count": 15,
   "metadata": {},
   "outputs": [],
   "source": [
    "# pad sequences \n",
    "max_sequence_len = max([len(x) for x in input_sequences])\n",
    "input_sequences = np.array(pad_sequences(input_sequences, maxlen=max_sequence_len,padding='pre'))\n",
    "\n",
    "predictors, label = input_sequences[:,:-1], input_sequences[:,-1]\n",
    "label = ku.to_categorical(label, num_classes=total_words)"
   ]
  },
  {
   "cell_type": "code",
   "execution_count": 18,
   "metadata": {},
   "outputs": [
    {
     "name": "stdout",
     "output_type": "stream",
     "text": [
      "Model: \"sequential\"\n",
      "_________________________________________________________________\n",
      "Layer (type)                 Output Shape              Param #   \n",
      "=================================================================\n",
      "embedding (Embedding)        (None, 10, 100)           321100    \n",
      "_________________________________________________________________\n",
      "bidirectional (Bidirectional (None, 10, 300)           301200    \n",
      "_________________________________________________________________\n",
      "dropout (Dropout)            (None, 10, 300)           0         \n",
      "_________________________________________________________________\n",
      "lstm_1 (LSTM)                (None, 100)               160400    \n",
      "_________________________________________________________________\n",
      "dense (Dense)                (None, 1605)              162105    \n",
      "_________________________________________________________________\n",
      "dense_1 (Dense)              (None, 3211)              5156866   \n",
      "=================================================================\n",
      "Total params: 6,101,671\n",
      "Trainable params: 6,101,671\n",
      "Non-trainable params: 0\n",
      "_________________________________________________________________\n",
      "None\n"
     ]
    }
   ],
   "source": [
    "model = Sequential()\n",
    "model.add(Embedding(total_words, 100, input_length=max_sequence_len-1))\n",
    "model.add(Bidirectional(LSTM(150, return_sequences=True)))\n",
    "model.add(Dropout(0.2))\n",
    "model.add(LSTM(100))\n",
    "model.add(Dense(total_words/2, activation='relu', kernel_regularizer=regularizers.l2(0.01)))\n",
    "model.add(Dense(total_words, activation='softmax'))\n",
    "model.compile(loss='categorical_crossentropy', optimizer='adam', metrics=['accuracy'])\n",
    "print(model.summary())"
   ]
  },
  {
   "cell_type": "code",
   "execution_count": 19,
   "metadata": {
    "scrolled": false
   },
   "outputs": [
    {
     "name": "stdout",
     "output_type": "stream",
     "text": [
      "Train on 15462 samples\n",
      "Epoch 1/100\n",
      "15462/15462 [==============================] - 43s 3ms/sample - loss: 6.9041 - accuracy: 0.0213\n",
      "Epoch 2/100\n",
      "15462/15462 [==============================] - 37s 2ms/sample - loss: 6.4990 - accuracy: 0.0217\n",
      "Epoch 3/100\n",
      "15462/15462 [==============================] - 37s 2ms/sample - loss: 6.3987 - accuracy: 0.0236\n",
      "Epoch 4/100\n",
      "15462/15462 [==============================] - 37s 2ms/sample - loss: 6.2708 - accuracy: 0.0278\n",
      "Epoch 5/100\n",
      "15462/15462 [==============================] - 37s 2ms/sample - loss: 6.1797 - accuracy: 0.0332\n",
      "Epoch 6/100\n",
      "15462/15462 [==============================] - 37s 2ms/sample - loss: 6.0948 - accuracy: 0.0393\n",
      "Epoch 7/100\n",
      "15462/15462 [==============================] - 37s 2ms/sample - loss: 6.0141 - accuracy: 0.0415\n",
      "Epoch 8/100\n",
      "15462/15462 [==============================] - 37s 2ms/sample - loss: 5.9326 - accuracy: 0.0430\n",
      "Epoch 9/100\n",
      "15462/15462 [==============================] - 37s 2ms/sample - loss: 5.8419 - accuracy: 0.0493\n",
      "Epoch 10/100\n",
      "15462/15462 [==============================] - 37s 2ms/sample - loss: 5.7336 - accuracy: 0.0566\n",
      "Epoch 11/100\n",
      "15462/15462 [==============================] - 37s 2ms/sample - loss: 5.6200 - accuracy: 0.0631\n",
      "Epoch 12/100\n",
      "15462/15462 [==============================] - 37s 2ms/sample - loss: 5.5059 - accuracy: 0.0701\n",
      "Epoch 13/100\n",
      "15462/15462 [==============================] - 37s 2ms/sample - loss: 5.4017 - accuracy: 0.0755\n",
      "Epoch 14/100\n",
      "15462/15462 [==============================] - 37s 2ms/sample - loss: 5.3028 - accuracy: 0.0803\n",
      "Epoch 15/100\n",
      "15462/15462 [==============================] - 37s 2ms/sample - loss: 5.1983 - accuracy: 0.0885\n",
      "Epoch 16/100\n",
      "15462/15462 [==============================] - 37s 2ms/sample - loss: 5.0996 - accuracy: 0.0946\n",
      "Epoch 17/100\n",
      "15462/15462 [==============================] - 37s 2ms/sample - loss: 5.0063 - accuracy: 0.1052\n",
      "Epoch 18/100\n",
      "15462/15462 [==============================] - 37s 2ms/sample - loss: 4.9093 - accuracy: 0.1101\n",
      "Epoch 19/100\n",
      "15462/15462 [==============================] - 37s 2ms/sample - loss: 4.8086 - accuracy: 0.1193\n",
      "Epoch 20/100\n",
      "15462/15462 [==============================] - 37s 2ms/sample - loss: 4.7079 - accuracy: 0.1297\n",
      "Epoch 21/100\n",
      "15462/15462 [==============================] - 37s 2ms/sample - loss: 4.6115 - accuracy: 0.1385\n",
      "Epoch 22/100\n",
      "15462/15462 [==============================] - 37s 2ms/sample - loss: 4.5089 - accuracy: 0.1471\n",
      "Epoch 23/100\n",
      "15462/15462 [==============================] - 37s 2ms/sample - loss: 4.4124 - accuracy: 0.1637\n",
      "Epoch 24/100\n",
      "15462/15462 [==============================] - 37s 2ms/sample - loss: 4.3076 - accuracy: 0.1720\n",
      "Epoch 25/100\n",
      "15462/15462 [==============================] - 37s 2ms/sample - loss: 4.2100 - accuracy: 0.1843\n",
      "Epoch 26/100\n",
      "15462/15462 [==============================] - 37s 2ms/sample - loss: 4.1134 - accuracy: 0.1971\n",
      "Epoch 27/100\n",
      "15462/15462 [==============================] - 37s 2ms/sample - loss: 4.0103 - accuracy: 0.2106\n",
      "Epoch 28/100\n",
      "15462/15462 [==============================] - 37s 2ms/sample - loss: 3.9204 - accuracy: 0.2265\n",
      "Epoch 29/100\n",
      "15462/15462 [==============================] - 37s 2ms/sample - loss: 3.8196 - accuracy: 0.2402\n",
      "Epoch 30/100\n",
      "15462/15462 [==============================] - 37s 2ms/sample - loss: 3.7233 - accuracy: 0.2586\n",
      "Epoch 31/100\n",
      "15462/15462 [==============================] - 37s 2ms/sample - loss: 3.6380 - accuracy: 0.2716\n",
      "Epoch 32/100\n",
      "15462/15462 [==============================] - 37s 2ms/sample - loss: 3.5543 - accuracy: 0.2921\n",
      "Epoch 33/100\n",
      "15462/15462 [==============================] - 37s 2ms/sample - loss: 3.4609 - accuracy: 0.3106\n",
      "Epoch 34/100\n",
      "15462/15462 [==============================] - 37s 2ms/sample - loss: 3.3685 - accuracy: 0.3312\n",
      "Epoch 35/100\n",
      "15462/15462 [==============================] - 37s 2ms/sample - loss: 3.2986 - accuracy: 0.3461\n",
      "Epoch 36/100\n",
      "15462/15462 [==============================] - 37s 2ms/sample - loss: 3.2154 - accuracy: 0.3689\n",
      "Epoch 37/100\n",
      "15462/15462 [==============================] - 37s 2ms/sample - loss: 3.1320 - accuracy: 0.3853\n",
      "Epoch 38/100\n",
      "15462/15462 [==============================] - 37s 2ms/sample - loss: 3.0596 - accuracy: 0.4068\n",
      "Epoch 39/100\n",
      "15462/15462 [==============================] - 37s 2ms/sample - loss: 2.9829 - accuracy: 0.4177\n",
      "Epoch 40/100\n",
      "15462/15462 [==============================] - 37s 2ms/sample - loss: 2.9141 - accuracy: 0.4358\n",
      "Epoch 41/100\n",
      "15462/15462 [==============================] - 37s 2ms/sample - loss: 2.8533 - accuracy: 0.4497\n",
      "Epoch 42/100\n",
      "15462/15462 [==============================] - 37s 2ms/sample - loss: 2.7897 - accuracy: 0.4611\n",
      "Epoch 43/100\n",
      "15462/15462 [==============================] - 38s 2ms/sample - loss: 2.7200 - accuracy: 0.4767\n",
      "Epoch 44/100\n",
      "15462/15462 [==============================] - 37s 2ms/sample - loss: 2.6648 - accuracy: 0.4942\n",
      "Epoch 45/100\n",
      "15462/15462 [==============================] - 37s 2ms/sample - loss: 2.6029 - accuracy: 0.5021\n",
      "Epoch 46/100\n",
      "15462/15462 [==============================] - 37s 2ms/sample - loss: 2.5458 - accuracy: 0.5180\n",
      "Epoch 47/100\n",
      "15462/15462 [==============================] - 37s 2ms/sample - loss: 2.4880 - accuracy: 0.5303\n",
      "Epoch 48/100\n",
      "15462/15462 [==============================] - 37s 2ms/sample - loss: 2.4346 - accuracy: 0.5448\n",
      "Epoch 49/100\n",
      "15462/15462 [==============================] - 37s 2ms/sample - loss: 2.3833 - accuracy: 0.5532\n",
      "Epoch 50/100\n",
      "15462/15462 [==============================] - 37s 2ms/sample - loss: 2.3372 - accuracy: 0.5660\n",
      "Epoch 51/100\n",
      "15462/15462 [==============================] - 37s 2ms/sample - loss: 2.2871 - accuracy: 0.5754\n",
      "Epoch 52/100\n",
      "15462/15462 [==============================] - 37s 2ms/sample - loss: 2.2376 - accuracy: 0.5909\n",
      "Epoch 53/100\n",
      "15462/15462 [==============================] - 38s 2ms/sample - loss: 2.2014 - accuracy: 0.5968\n",
      "Epoch 54/100\n",
      "15462/15462 [==============================] - 37s 2ms/sample - loss: 2.1547 - accuracy: 0.6043\n",
      "Epoch 55/100\n",
      "15462/15462 [==============================] - 37s 2ms/sample - loss: 2.1156 - accuracy: 0.6195\n",
      "Epoch 56/100\n",
      "15462/15462 [==============================] - 37s 2ms/sample - loss: 2.0790 - accuracy: 0.6218\n",
      "Epoch 57/100\n",
      "15462/15462 [==============================] - 38s 2ms/sample - loss: 2.0421 - accuracy: 0.6291\n",
      "Epoch 58/100\n",
      "15462/15462 [==============================] - 38s 2ms/sample - loss: 1.9974 - accuracy: 0.6434\n",
      "Epoch 59/100\n",
      "15462/15462 [==============================] - 37s 2ms/sample - loss: 1.9577 - accuracy: 0.6515\n",
      "Epoch 60/100\n",
      "15462/15462 [==============================] - 37s 2ms/sample - loss: 1.9314 - accuracy: 0.6579\n",
      "Epoch 61/100\n",
      "15462/15462 [==============================] - 38s 2ms/sample - loss: 1.9044 - accuracy: 0.6586\n",
      "Epoch 62/100\n",
      "15462/15462 [==============================] - 37s 2ms/sample - loss: 1.8690 - accuracy: 0.6682\n",
      "Epoch 63/100\n",
      "15462/15462 [==============================] - 37s 2ms/sample - loss: 1.8399 - accuracy: 0.6755\n",
      "Epoch 64/100\n",
      "15462/15462 [==============================] - 38s 2ms/sample - loss: 1.7854 - accuracy: 0.6878\n",
      "Epoch 65/100\n",
      "15462/15462 [==============================] - 38s 2ms/sample - loss: 1.7613 - accuracy: 0.6887\n",
      "Epoch 66/100\n",
      "15462/15462 [==============================] - 37s 2ms/sample - loss: 1.7541 - accuracy: 0.6909\n",
      "Epoch 67/100\n",
      "15462/15462 [==============================] - 37s 2ms/sample - loss: 1.7235 - accuracy: 0.6996\n",
      "Epoch 68/100\n",
      "15462/15462 [==============================] - 38s 2ms/sample - loss: 1.6871 - accuracy: 0.7074\n",
      "Epoch 69/100\n",
      "15462/15462 [==============================] - 37s 2ms/sample - loss: 1.6606 - accuracy: 0.7112\n",
      "Epoch 70/100\n",
      "15462/15462 [==============================] - 37s 2ms/sample - loss: 1.6415 - accuracy: 0.7139\n",
      "Epoch 71/100\n",
      "15462/15462 [==============================] - 38s 2ms/sample - loss: 1.6144 - accuracy: 0.7189\n",
      "Epoch 72/100\n",
      "15462/15462 [==============================] - 38s 2ms/sample - loss: 1.5965 - accuracy: 0.7207\n",
      "Epoch 73/100\n",
      "15462/15462 [==============================] - 37s 2ms/sample - loss: 1.5822 - accuracy: 0.7259\n",
      "Epoch 74/100\n",
      "15462/15462 [==============================] - 38s 2ms/sample - loss: 1.5428 - accuracy: 0.7322\n",
      "Epoch 75/100\n",
      "15462/15462 [==============================] - 37s 2ms/sample - loss: 1.5296 - accuracy: 0.7357\n",
      "Epoch 76/100\n"
     ]
    },
    {
     "name": "stdout",
     "output_type": "stream",
     "text": [
      "15462/15462 [==============================] - 37s 2ms/sample - loss: 1.5120 - accuracy: 0.7358\n",
      "Epoch 77/100\n",
      "15462/15462 [==============================] - 37s 2ms/sample - loss: 1.4821 - accuracy: 0.7423\n",
      "Epoch 78/100\n",
      "15462/15462 [==============================] - 38s 2ms/sample - loss: 1.4742 - accuracy: 0.7440\n",
      "Epoch 79/100\n",
      "15462/15462 [==============================] - 38s 2ms/sample - loss: 1.4610 - accuracy: 0.7466\n",
      "Epoch 80/100\n",
      "15462/15462 [==============================] - 37s 2ms/sample - loss: 1.4420 - accuracy: 0.7507\n",
      "Epoch 81/100\n",
      "15462/15462 [==============================] - 37s 2ms/sample - loss: 1.4258 - accuracy: 0.7571\n",
      "Epoch 82/100\n",
      "15462/15462 [==============================] - 37s 2ms/sample - loss: 1.3945 - accuracy: 0.7604\n",
      "Epoch 83/100\n",
      "15462/15462 [==============================] - 38s 2ms/sample - loss: 1.3789 - accuracy: 0.7639\n",
      "Epoch 84/100\n",
      "15462/15462 [==============================] - 37s 2ms/sample - loss: 1.3761 - accuracy: 0.7634\n",
      "Epoch 85/100\n",
      "15462/15462 [==============================] - 37s 2ms/sample - loss: 1.3587 - accuracy: 0.7659\n",
      "Epoch 86/100\n",
      "15462/15462 [==============================] - 37s 2ms/sample - loss: 1.3382 - accuracy: 0.7697\n",
      "Epoch 87/100\n",
      "15462/15462 [==============================] - 37s 2ms/sample - loss: 1.3422 - accuracy: 0.7672\n",
      "Epoch 88/100\n",
      "15462/15462 [==============================] - 37s 2ms/sample - loss: 1.3188 - accuracy: 0.7742\n",
      "Epoch 89/100\n",
      "15462/15462 [==============================] - 37s 2ms/sample - loss: 1.2952 - accuracy: 0.7782\n",
      "Epoch 90/100\n",
      "15462/15462 [==============================] - 37s 2ms/sample - loss: 1.2936 - accuracy: 0.7780\n",
      "Epoch 91/100\n",
      "15462/15462 [==============================] - 37s 2ms/sample - loss: 1.2686 - accuracy: 0.7842\n",
      "Epoch 92/100\n",
      "15462/15462 [==============================] - 37s 2ms/sample - loss: 1.2702 - accuracy: 0.7804\n",
      "Epoch 93/100\n",
      "15462/15462 [==============================] - 37s 2ms/sample - loss: 1.2433 - accuracy: 0.7857\n",
      "Epoch 94/100\n",
      "15462/15462 [==============================] - 37s 2ms/sample - loss: 1.2339 - accuracy: 0.7877\n",
      "Epoch 95/100\n",
      "15462/15462 [==============================] - 38s 2ms/sample - loss: 1.2262 - accuracy: 0.7868\n",
      "Epoch 96/100\n",
      "15462/15462 [==============================] - 37s 2ms/sample - loss: 1.2055 - accuracy: 0.7939\n",
      "Epoch 97/100\n",
      "15462/15462 [==============================] - 38s 2ms/sample - loss: 1.2021 - accuracy: 0.7930\n",
      "Epoch 98/100\n",
      "15462/15462 [==============================] - 38s 2ms/sample - loss: 1.1886 - accuracy: 0.7950\n",
      "Epoch 99/100\n",
      "15462/15462 [==============================] - 37s 2ms/sample - loss: 1.2031 - accuracy: 0.7892\n",
      "Epoch 100/100\n",
      "15462/15462 [==============================] - 37s 2ms/sample - loss: 1.1799 - accuracy: 0.7935\n"
     ]
    }
   ],
   "source": [
    "history = model.fit(predictors, label, epochs=100, verbose=1)"
   ]
  },
  {
   "cell_type": "code",
   "execution_count": 22,
   "metadata": {},
   "outputs": [
    {
     "data": {
      "image/png": "[encoded data removed]",
      "text/plain": [
       "<Figure size 432x288 with 1 Axes>"
      ]
     },
     "metadata": {
      "needs_background": "light"
     },
     "output_type": "display_data"
    },
    {
     "data": {
      "image/png": "[encoded data removed]",
      "text/plain": [
       "<Figure size 432x288 with 1 Axes>"
      ]
     },
     "metadata": {
      "needs_background": "light"
     },
     "output_type": "display_data"
    }
   ],
   "source": [
    "import matplotlib.pyplot as plt\n",
    "\n",
    "acc = history.history['accuracy']\n",
    "loss = history.history['loss']\n",
    "epochs = range(len(acc))\n",
    "plt.plot(epochs, acc, 'b', label='Training accuracy')\n",
    "plt.title('training accuracy')\n",
    "plt.figure()\n",
    "plt.plot(epochs, loss, 'b', label='Training Loss')\n",
    "plt.title('Training loss')\n",
    "plt.legend()\n",
    "plt.show();"
   ]
  },
  {
   "cell_type": "code",
   "execution_count": 23,
   "metadata": {},
   "outputs": [
    {
     "name": "stdout",
     "output_type": "stream",
     "text": [
      "Help me Obi Wan Kenobi, you're my only hope my unkind words old near place twain light twain strife dyed alive me tongue some part ' bearing her end grow dearer brow pride alone mad torn dyed exceeds alive thee dear life young sheds back oppress'd with arising forth arising back some quite free free deem'd back her minds days lies taken torn fled taken abuse me young young days untrue back his store here here now tender'd told thee blushing groan none who tend chide thee here wide sun new rotten pain made ' now his growth ' exchanged young old old cold taken decays grow sad near\n"
     ]
    }
   ],
   "source": [
    "seed_text = \"Help me Obi Wan Kenobi, you're my only hope\"\n",
    "next_words = 100\n",
    "  \n",
    "for _ in range(next_words):\n",
    "    token_list = tokenizer.texts_to_sequences([seed_text])[0]\n",
    "    token_list = pad_sequences([token_list], maxlen=max_sequence_len-1, padding='pre')\n",
    "    predicted = model.predict_classes(token_list, verbose=0)\n",
    "    output_word = \"\"\n",
    "    for word, index in tokenizer.word_index.items():\n",
    "        if index == predicted:\n",
    "            output_word = word\n",
    "            break\n",
    "    seed_text += \" \" + output_word\n",
    "print(seed_text)"
   ]
  },
  {
   "cell_type": "code",
   "execution_count": null,
   "metadata": {},
   "outputs": [],
   "source": []
  }
 ],
 "metadata": {
  "kernelspec": {
   "display_name": "Python 3",
   "language": "python",
   "name": "python3"
  },
  "language_info": {
   "codemirror_mode": {
    "name": "ipython",
    "version": 3
   },
   "file_extension": ".py",
   "mimetype": "text/x-python",
   "name": "python",
   "nbconvert_exporter": "python",
   "pygments_lexer": "ipython3",
   "version": "3.6.7"
  }
 },
 "nbformat": 4,
 "nbformat_minor": 2
}
