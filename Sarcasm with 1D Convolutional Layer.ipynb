{
 "cells": [
  {
   "cell_type": "code",
   "execution_count": 1,
   "metadata": {},
   "outputs": [],
   "source": [
    "import json\n",
    "import numpy as np\n",
    "import tensorflow as tf\n",
    "from tensorflow.keras.preprocessing.text import Tokenizer\n",
    "from tensorflow.keras.preprocessing.sequence import pad_sequences"
   ]
  },
  {
   "cell_type": "code",
   "execution_count": 2,
   "metadata": {},
   "outputs": [],
   "source": [
    "vocab_size = 1000\n",
    "embedding_dim = 16\n",
    "max_length = 120\n",
    "trunc_type = 'post'\n",
    "padding_type = 'post'\n",
    "oov_tok = '<OOV>'\n",
    "training_size = 20000\n",
    "\n",
    "with open('Data/sarcasm.json', 'r') as f:\n",
    "    datastore = json.load(f)"
   ]
  },
  {
   "cell_type": "code",
   "execution_count": 4,
   "metadata": {},
   "outputs": [],
   "source": [
    "sentences = []\n",
    "labels = []\n",
    "\n",
    "for item in datastore:\n",
    "    sentences.append(item['headline'])\n",
    "    labels.append(item['is_sarcastic'])"
   ]
  },
  {
   "cell_type": "code",
   "execution_count": 6,
   "metadata": {},
   "outputs": [],
   "source": [
    "training_sentences = sentences[0:training_size]\n",
    "testing_sentences = sentences[training_size:]\n",
    "\n",
    "training_labels = labels[0:training_size]\n",
    "testing_labels = labels[training_size:]"
   ]
  },
  {
   "cell_type": "code",
   "execution_count": 7,
   "metadata": {},
   "outputs": [],
   "source": [
    "tokenizer = Tokenizer(num_words=vocab_size, oov_token=oov_tok)\n",
    "tokenizer.fit_on_texts(training_sentences)"
   ]
  },
  {
   "cell_type": "code",
   "execution_count": 8,
   "metadata": {},
   "outputs": [],
   "source": [
    "word_index = tokenizer.word_index"
   ]
  },
  {
   "cell_type": "code",
   "execution_count": 9,
   "metadata": {},
   "outputs": [],
   "source": [
    "training_sequences = tokenizer.texts_to_sequences(training_sentences)\n",
    "training_padded = pad_sequences(training_sequences, maxlen=max_length, padding=padding_type, truncating=trunc_type)\n",
    "\n",
    "testing_sequences = tokenizer.texts_to_sequences(testing_sentences)\n",
    "testing_padded = pad_sequences(testing_sequences, maxlen=max_length, padding=padding_type, truncating=trunc_type)"
   ]
  },
  {
   "cell_type": "code",
   "execution_count": 10,
   "metadata": {},
   "outputs": [
    {
     "name": "stdout",
     "output_type": "stream",
     "text": [
      "Model: \"sequential\"\n",
      "_________________________________________________________________\n",
      "Layer (type)                 Output Shape              Param #   \n",
      "=================================================================\n",
      "embedding (Embedding)        (None, 120, 16)           16000     \n",
      "_________________________________________________________________\n",
      "conv1d (Conv1D)              (None, 116, 128)          10368     \n",
      "_________________________________________________________________\n",
      "global_max_pooling1d (Global (None, 128)               0         \n",
      "_________________________________________________________________\n",
      "dense (Dense)                (None, 24)                3096      \n",
      "_________________________________________________________________\n",
      "dense_1 (Dense)              (None, 1)                 25        \n",
      "=================================================================\n",
      "Total params: 29,489\n",
      "Trainable params: 29,489\n",
      "Non-trainable params: 0\n",
      "_________________________________________________________________\n"
     ]
    }
   ],
   "source": [
    "model = tf.keras.Sequential([\n",
    "    tf.keras.layers.Embedding(vocab_size, embedding_dim, input_length=max_length),\n",
    "    tf.keras.layers.Conv1D(128, 5, activation='relu'),\n",
    "    tf.keras.layers.GlobalMaxPooling1D(),\n",
    "    tf.keras.layers.Dense(24, activation='relu'),\n",
    "    tf.keras.layers.Dense(1, activation='sigmoid')\n",
    "])\n",
    "model.compile(loss='binary_crossentropy', optimizer='adam', metrics=['accuracy'])\n",
    "model.summary()"
   ]
  },
  {
   "cell_type": "code",
   "execution_count": 14,
   "metadata": {
    "scrolled": false
   },
   "outputs": [
    {
     "name": "stderr",
     "output_type": "stream",
     "text": [
      "WARNING: Logging before flag parsing goes to stderr.\n",
      "W0905 04:59:21.201786 140325819664192 deprecation.py:323] From /opt/tljh/user/lib/python3.6/site-packages/tensorflow_core/python/ops/nn_impl.py:183: where (from tensorflow.python.ops.array_ops) is deprecated and will be removed in a future version.\n",
      "Instructions for updating:\n",
      "Use tf.where in 2.0, which has the same broadcast rule as np.where\n"
     ]
    },
    {
     "name": "stdout",
     "output_type": "stream",
     "text": [
      "Train on 20000 samples, validate on 6709 samples\n",
      "Epoch 1/50\n",
      "20000/20000 [==============================] - 4s 225us/sample - loss: 0.4752 - accuracy: 0.7581 - val_loss: 0.4053 - val_accuracy: 0.8155\n",
      "Epoch 2/50\n",
      "20000/20000 [==============================] - 4s 186us/sample - loss: 0.3615 - accuracy: 0.8389 - val_loss: 0.3932 - val_accuracy: 0.8247\n",
      "Epoch 3/50\n",
      "20000/20000 [==============================] - 4s 189us/sample - loss: 0.3236 - accuracy: 0.8579 - val_loss: 0.3929 - val_accuracy: 0.8250\n",
      "Epoch 4/50\n",
      "20000/20000 [==============================] - 4s 189us/sample - loss: 0.2931 - accuracy: 0.8729 - val_loss: 0.3989 - val_accuracy: 0.8211\n",
      "Epoch 5/50\n",
      "20000/20000 [==============================] - 4s 190us/sample - loss: 0.2579 - accuracy: 0.8920 - val_loss: 0.4287 - val_accuracy: 0.8147\n",
      "Epoch 6/50\n",
      "20000/20000 [==============================] - 4s 190us/sample - loss: 0.2246 - accuracy: 0.9094 - val_loss: 0.4557 - val_accuracy: 0.8095\n",
      "Epoch 7/50\n",
      "20000/20000 [==============================] - 4s 190us/sample - loss: 0.1897 - accuracy: 0.9257 - val_loss: 0.5475 - val_accuracy: 0.7958\n",
      "Epoch 8/50\n",
      "20000/20000 [==============================] - 4s 189us/sample - loss: 0.1596 - accuracy: 0.9396 - val_loss: 0.5397 - val_accuracy: 0.8077\n",
      "Epoch 9/50\n",
      "20000/20000 [==============================] - 4s 188us/sample - loss: 0.1337 - accuracy: 0.9494 - val_loss: 0.6128 - val_accuracy: 0.8120\n",
      "Epoch 10/50\n",
      "20000/20000 [==============================] - 4s 187us/sample - loss: 0.1081 - accuracy: 0.9616 - val_loss: 0.6905 - val_accuracy: 0.8025\n",
      "Epoch 11/50\n",
      "20000/20000 [==============================] - 4s 204us/sample - loss: 0.0910 - accuracy: 0.9679 - val_loss: 0.7902 - val_accuracy: 0.8028\n",
      "Epoch 12/50\n",
      "20000/20000 [==============================] - 4s 196us/sample - loss: 0.0760 - accuracy: 0.9733 - val_loss: 0.8226 - val_accuracy: 0.8022\n",
      "Epoch 13/50\n",
      "20000/20000 [==============================] - 4s 189us/sample - loss: 0.0633 - accuracy: 0.9781 - val_loss: 0.8881 - val_accuracy: 0.7942\n",
      "Epoch 14/50\n",
      "20000/20000 [==============================] - 4s 186us/sample - loss: 0.0537 - accuracy: 0.9816 - val_loss: 0.9991 - val_accuracy: 0.8015\n",
      "Epoch 15/50\n",
      "20000/20000 [==============================] - 4s 189us/sample - loss: 0.0456 - accuracy: 0.9847 - val_loss: 1.0784 - val_accuracy: 0.7977\n",
      "Epoch 16/50\n",
      "20000/20000 [==============================] - 4s 187us/sample - loss: 0.0437 - accuracy: 0.9850 - val_loss: 1.1284 - val_accuracy: 0.7988\n",
      "Epoch 17/50\n",
      "20000/20000 [==============================] - 4s 188us/sample - loss: 0.0401 - accuracy: 0.9846 - val_loss: 1.2899 - val_accuracy: 0.7971\n",
      "Epoch 18/50\n",
      "20000/20000 [==============================] - 4s 189us/sample - loss: 0.0359 - accuracy: 0.9869 - val_loss: 1.2886 - val_accuracy: 0.7940\n",
      "Epoch 19/50\n",
      "20000/20000 [==============================] - 4s 187us/sample - loss: 0.0345 - accuracy: 0.9863 - val_loss: 1.3807 - val_accuracy: 0.7948\n",
      "Epoch 20/50\n",
      "20000/20000 [==============================] - 4s 187us/sample - loss: 0.0373 - accuracy: 0.9854 - val_loss: 1.4823 - val_accuracy: 0.7864\n",
      "Epoch 21/50\n",
      "20000/20000 [==============================] - 4s 187us/sample - loss: 0.0341 - accuracy: 0.9865 - val_loss: 1.4456 - val_accuracy: 0.7903\n",
      "Epoch 22/50\n",
      "20000/20000 [==============================] - 4s 188us/sample - loss: 0.0331 - accuracy: 0.9873 - val_loss: 1.5075 - val_accuracy: 0.7916\n",
      "Epoch 23/50\n",
      "20000/20000 [==============================] - 4s 188us/sample - loss: 0.0310 - accuracy: 0.9873 - val_loss: 1.5246 - val_accuracy: 0.7815\n",
      "Epoch 24/50\n",
      "20000/20000 [==============================] - 4s 187us/sample - loss: 0.0293 - accuracy: 0.9882 - val_loss: 1.6549 - val_accuracy: 0.7933\n",
      "Epoch 25/50\n",
      "20000/20000 [==============================] - 4s 186us/sample - loss: 0.0245 - accuracy: 0.9900 - val_loss: 1.5973 - val_accuracy: 0.7872\n",
      "Epoch 26/50\n",
      "20000/20000 [==============================] - 4s 186us/sample - loss: 0.0247 - accuracy: 0.9900 - val_loss: 1.6641 - val_accuracy: 0.7870\n",
      "Epoch 27/50\n",
      "20000/20000 [==============================] - 4s 190us/sample - loss: 0.0275 - accuracy: 0.9887 - val_loss: 1.7469 - val_accuracy: 0.7930\n",
      "Epoch 28/50\n",
      "20000/20000 [==============================] - 4s 192us/sample - loss: 0.0291 - accuracy: 0.9876 - val_loss: 1.8311 - val_accuracy: 0.7886\n",
      "Epoch 29/50\n",
      "20000/20000 [==============================] - 4s 187us/sample - loss: 0.0277 - accuracy: 0.9886 - val_loss: 1.8585 - val_accuracy: 0.7877\n",
      "Epoch 30/50\n",
      "20000/20000 [==============================] - 4s 189us/sample - loss: 0.0237 - accuracy: 0.9901 - val_loss: 1.7855 - val_accuracy: 0.7907\n",
      "Epoch 31/50\n",
      "20000/20000 [==============================] - 4s 188us/sample - loss: 0.0231 - accuracy: 0.9903 - val_loss: 1.8206 - val_accuracy: 0.7839\n",
      "Epoch 32/50\n",
      "20000/20000 [==============================] - 4s 186us/sample - loss: 0.0240 - accuracy: 0.9906 - val_loss: 1.9281 - val_accuracy: 0.7970\n",
      "Epoch 33/50\n",
      "20000/20000 [==============================] - 4s 187us/sample - loss: 0.0238 - accuracy: 0.9903 - val_loss: 2.0460 - val_accuracy: 0.7855\n",
      "Epoch 34/50\n",
      "20000/20000 [==============================] - 4s 185us/sample - loss: 0.0245 - accuracy: 0.9901 - val_loss: 1.9477 - val_accuracy: 0.7945\n",
      "Epoch 35/50\n",
      "20000/20000 [==============================] - 4s 187us/sample - loss: 0.0247 - accuracy: 0.9898 - val_loss: 1.9389 - val_accuracy: 0.7952\n",
      "Epoch 36/50\n",
      "20000/20000 [==============================] - 4s 187us/sample - loss: 0.0217 - accuracy: 0.9908 - val_loss: 1.9961 - val_accuracy: 0.7924\n",
      "Epoch 37/50\n",
      "20000/20000 [==============================] - 4s 189us/sample - loss: 0.0210 - accuracy: 0.9911 - val_loss: 2.0282 - val_accuracy: 0.7897\n",
      "Epoch 38/50\n",
      "20000/20000 [==============================] - 4s 189us/sample - loss: 0.0186 - accuracy: 0.9923 - val_loss: 2.2136 - val_accuracy: 0.7936\n",
      "Epoch 39/50\n",
      "20000/20000 [==============================] - 4s 186us/sample - loss: 0.0197 - accuracy: 0.9918 - val_loss: 2.0659 - val_accuracy: 0.7930\n",
      "Epoch 40/50\n",
      "20000/20000 [==============================] - 4s 187us/sample - loss: 0.0227 - accuracy: 0.9904 - val_loss: 2.2470 - val_accuracy: 0.7845\n",
      "Epoch 41/50\n",
      "20000/20000 [==============================] - 4s 187us/sample - loss: 0.0216 - accuracy: 0.9912 - val_loss: 2.2093 - val_accuracy: 0.7861\n",
      "Epoch 42/50\n",
      "20000/20000 [==============================] - 4s 187us/sample - loss: 0.0225 - accuracy: 0.9897 - val_loss: 2.3005 - val_accuracy: 0.7912\n",
      "Epoch 43/50\n",
      "20000/20000 [==============================] - 4s 186us/sample - loss: 0.0230 - accuracy: 0.9901 - val_loss: 2.2488 - val_accuracy: 0.7936\n",
      "Epoch 44/50\n",
      "20000/20000 [==============================] - 4s 188us/sample - loss: 0.0214 - accuracy: 0.9907 - val_loss: 2.2998 - val_accuracy: 0.7916\n",
      "Epoch 45/50\n",
      "20000/20000 [==============================] - 4s 187us/sample - loss: 0.0197 - accuracy: 0.9917 - val_loss: 2.2477 - val_accuracy: 0.7948\n",
      "Epoch 46/50\n",
      "20000/20000 [==============================] - 4s 185us/sample - loss: 0.0170 - accuracy: 0.9931 - val_loss: 2.3036 - val_accuracy: 0.7921\n",
      "Epoch 47/50\n",
      "20000/20000 [==============================] - 4s 186us/sample - loss: 0.0180 - accuracy: 0.9923 - val_loss: 2.3247 - val_accuracy: 0.7942\n",
      "Epoch 48/50\n",
      "20000/20000 [==============================] - 4s 189us/sample - loss: 0.0171 - accuracy: 0.9924 - val_loss: 2.3856 - val_accuracy: 0.7872\n",
      "Epoch 49/50\n",
      "20000/20000 [==============================] - 4s 187us/sample - loss: 0.0207 - accuracy: 0.9907 - val_loss: 2.3652 - val_accuracy: 0.7952\n",
      "Epoch 50/50\n",
      "20000/20000 [==============================] - 4s 187us/sample - loss: 0.0215 - accuracy: 0.9909 - val_loss: 2.3976 - val_accuracy: 0.7866\n"
     ]
    }
   ],
   "source": [
    "training_labels = np.array(training_labels)\n",
    "testing_labels = np.array(testing_labels)\n",
    "\n",
    "num_epochs = 50\n",
    "history = model.fit(training_padded, training_labels, epochs=num_epochs, validation_data = (testing_padded, testing_labels), verbose=1)"
   ]
  },
  {
   "cell_type": "code",
   "execution_count": 15,
   "metadata": {},
   "outputs": [],
   "source": [
    "import matplotlib.pyplot as plt\n",
    "\n",
    "def plot_graphs(history, string):\n",
    "    plt.plot(history.history[string])\n",
    "    plt.plot(history.history['val_'+string])\n",
    "    plt.xlabel('Epochs')\n",
    "    plt.ylabel(string)\n",
    "    plt.legend([string, 'val_'+string])\n",
    "    plt.show()"
   ]
  },
  {
   "cell_type": "code",
   "execution_count": 16,
   "metadata": {},
   "outputs": [
    {
     "data": {
      "image/png": "[encoded data removed]",
      "text/plain": [
       "<Figure size 432x288 with 1 Axes>"
      ]
     },
     "metadata": {
      "needs_background": "light"
     },
     "output_type": "display_data"
    },
    {
     "data": {
      "image/png": "[encoded data removed]",
      "text/plain": [
       "<Figure size 432x288 with 1 Axes>"
      ]
     },
     "metadata": {
      "needs_background": "light"
     },
     "output_type": "display_data"
    }
   ],
   "source": [
    "plot_graphs(history, 'accuracy');\n",
    "plot_graphs(history, 'loss');"
   ]
  },
  {
   "cell_type": "code",
   "execution_count": null,
   "metadata": {},
   "outputs": [],
   "source": []
  }
 ],
 "metadata": {
  "kernelspec": {
   "display_name": "Python 3",
   "language": "python",
   "name": "python3"
  },
  "language_info": {
   "codemirror_mode": {
    "name": "ipython",
    "version": 3
   },
   "file_extension": ".py",
   "mimetype": "text/x-python",
   "name": "python",
   "nbconvert_exporter": "python",
   "pygments_lexer": "ipython3",
   "version": "3.6.7"
  }
 },
 "nbformat": 4,
 "nbformat_minor": 2
}
