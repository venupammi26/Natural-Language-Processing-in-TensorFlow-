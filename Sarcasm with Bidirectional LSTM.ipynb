{
 "cells": [
  {
   "cell_type": "code",
   "execution_count": 16,
   "metadata": {},
   "outputs": [],
   "source": [
    "import json\n",
    "import tensorflow as tf\n",
    "import numpy as np\n",
    "\n",
    "from tensorflow.keras.preprocessing.text import Tokenizer\n",
    "from tensorflow.keras.preprocessing.sequence import pad_sequences"
   ]
  },
  {
   "cell_type": "code",
   "execution_count": 17,
   "metadata": {},
   "outputs": [],
   "source": [
    "vocab_size = 1000\n",
    "embedding_dim = 16\n",
    "max_length = 120\n",
    "trunc_type = 'post'\n",
    "padding_type = 'post'\n",
    "oov_tok = '<OOV>'\n",
    "training_size = 20000\n",
    "\n",
    "with open('Data/sarcasm.json', 'r') as f:\n",
    "    datastore = json.load(f)"
   ]
  },
  {
   "cell_type": "code",
   "execution_count": 18,
   "metadata": {},
   "outputs": [],
   "source": [
    "sentences = []\n",
    "labels = []\n",
    "\n",
    "for item in datastore:\n",
    "    sentences.append(item['headline'])\n",
    "    labels.append(item['is_sarcastic'])\n",
    "    \n",
    "training_sentences = sentences[0:training_size]\n",
    "testing_sentences = sentences[training_size:]\n",
    "training_labels = labels[0: training_size]\n",
    "testing_labels = labels[training_size:]"
   ]
  },
  {
   "cell_type": "code",
   "execution_count": 19,
   "metadata": {},
   "outputs": [],
   "source": [
    "tokenizer = Tokenizer(num_words=vocab_size, oov_token=oov_tok)\n",
    "tokenizer.fit_on_texts(training_sentences)"
   ]
  },
  {
   "cell_type": "code",
   "execution_count": 20,
   "metadata": {},
   "outputs": [],
   "source": [
    "word_index=tokenizer.word_index"
   ]
  },
  {
   "cell_type": "code",
   "execution_count": 21,
   "metadata": {},
   "outputs": [],
   "source": [
    "training_sequences = tokenizer.texts_to_sequences(training_sentences)\n",
    "training_padded = pad_sequences(training_sequences, maxlen=max_length, padding=padding_type, truncating=trunc_type)\n",
    "\n",
    "testing_sequences = tokenizer.texts_to_sequences(testing_sentences)\n",
    "testing_padded = pad_sequences(testing_sequences, maxlen=max_length, padding=padding_type, truncating=trunc_type)"
   ]
  },
  {
   "cell_type": "code",
   "execution_count": 24,
   "metadata": {},
   "outputs": [],
   "source": [
    "training_labels = np.array(training_labels)\n",
    "testing_labels = np.array(testing_labels)"
   ]
  },
  {
   "cell_type": "code",
   "execution_count": 12,
   "metadata": {},
   "outputs": [
    {
     "name": "stdout",
     "output_type": "stream",
     "text": [
      "Model: \"sequential\"\n",
      "_________________________________________________________________\n",
      "Layer (type)                 Output Shape              Param #   \n",
      "=================================================================\n",
      "embedding (Embedding)        (None, 120, 16)           16000     \n",
      "_________________________________________________________________\n",
      "bidirectional (Bidirectional (None, 64)                12544     \n",
      "_________________________________________________________________\n",
      "dense (Dense)                (None, 24)                1560      \n",
      "_________________________________________________________________\n",
      "dense_1 (Dense)              (None, 1)                 25        \n",
      "=================================================================\n",
      "Total params: 30,129\n",
      "Trainable params: 30,129\n",
      "Non-trainable params: 0\n",
      "_________________________________________________________________\n"
     ]
    }
   ],
   "source": [
    "model = tf.keras.Sequential([\n",
    "    tf.keras.layers.Embedding(vocab_size, embedding_dim, input_length=max_length),\n",
    "    tf.keras.layers.Bidirectional(tf.keras.layers.LSTM(32)),\n",
    "    tf.keras.layers.Dense(24, activation='relu'),\n",
    "    tf.keras.layers.Dense(1, activation='sigmoid')\n",
    "])\n",
    "model.compile(loss='binary_crossentropy', optimizer='adam', metrics=['accuracy'])\n",
    "model.summary()"
   ]
  },
  {
   "cell_type": "code",
   "execution_count": 25,
   "metadata": {
    "scrolled": false
   },
   "outputs": [
    {
     "name": "stdout",
     "output_type": "stream",
     "text": [
      "Train on 20000 samples, validate on 6709 samples\n",
      "Epoch 1/50\n"
     ]
    },
    {
     "name": "stderr",
     "output_type": "stream",
     "text": [
      "WARNING: Logging before flag parsing goes to stderr.\n",
      "W0905 02:02:52.577715 140689109051200 deprecation.py:323] From /opt/tljh/user/lib/python3.6/site-packages/tensorflow_core/python/ops/nn_impl.py:183: where (from tensorflow.python.ops.array_ops) is deprecated and will be removed in a future version.\n",
      "Instructions for updating:\n",
      "Use tf.where in 2.0, which has the same broadcast rule as np.where\n"
     ]
    },
    {
     "name": "stdout",
     "output_type": "stream",
     "text": [
      "20000/20000 [==============================] - 25s 1ms/sample - loss: 0.4503 - accuracy: 0.7757 - val_loss: 0.3845 - val_accuracy: 0.8255\n",
      "Epoch 2/50\n",
      "20000/20000 [==============================] - 21s 1ms/sample - loss: 0.3511 - accuracy: 0.8403 - val_loss: 0.3818 - val_accuracy: 0.8216\n",
      "Epoch 3/50\n",
      "20000/20000 [==============================] - 21s 1ms/sample - loss: 0.3266 - accuracy: 0.8533 - val_loss: 0.3694 - val_accuracy: 0.8326\n",
      "Epoch 4/50\n",
      "20000/20000 [==============================] - 21s 1ms/sample - loss: 0.3116 - accuracy: 0.8597 - val_loss: 0.3731 - val_accuracy: 0.8319\n",
      "Epoch 5/50\n",
      "20000/20000 [==============================] - 21s 1ms/sample - loss: 0.3021 - accuracy: 0.8653 - val_loss: 0.3709 - val_accuracy: 0.8311\n",
      "Epoch 6/50\n",
      "20000/20000 [==============================] - 21s 1ms/sample - loss: 0.2934 - accuracy: 0.8691 - val_loss: 0.3820 - val_accuracy: 0.8346\n",
      "Epoch 7/50\n",
      "20000/20000 [==============================] - 21s 1ms/sample - loss: 0.2865 - accuracy: 0.8745 - val_loss: 0.3947 - val_accuracy: 0.8286\n",
      "Epoch 8/50\n",
      "20000/20000 [==============================] - 21s 1ms/sample - loss: 0.2779 - accuracy: 0.8783 - val_loss: 0.3939 - val_accuracy: 0.8304\n",
      "Epoch 9/50\n",
      "20000/20000 [==============================] - 21s 1ms/sample - loss: 0.2712 - accuracy: 0.8808 - val_loss: 0.4081 - val_accuracy: 0.8271\n",
      "Epoch 10/50\n",
      "20000/20000 [==============================] - 21s 1ms/sample - loss: 0.2654 - accuracy: 0.8845 - val_loss: 0.4044 - val_accuracy: 0.8283\n",
      "Epoch 11/50\n",
      "20000/20000 [==============================] - 21s 1ms/sample - loss: 0.2593 - accuracy: 0.8863 - val_loss: 0.4016 - val_accuracy: 0.8264\n",
      "Epoch 12/50\n",
      "20000/20000 [==============================] - 21s 1ms/sample - loss: 0.2522 - accuracy: 0.8891 - val_loss: 0.4070 - val_accuracy: 0.8259\n",
      "Epoch 13/50\n",
      "20000/20000 [==============================] - 21s 1ms/sample - loss: 0.2474 - accuracy: 0.8928 - val_loss: 0.4293 - val_accuracy: 0.8281\n",
      "Epoch 14/50\n",
      "20000/20000 [==============================] - 21s 1ms/sample - loss: 0.2400 - accuracy: 0.8964 - val_loss: 0.4353 - val_accuracy: 0.8199\n",
      "Epoch 15/50\n",
      "20000/20000 [==============================] - 21s 1ms/sample - loss: 0.2308 - accuracy: 0.9016 - val_loss: 0.4599 - val_accuracy: 0.8250\n",
      "Epoch 16/50\n",
      "20000/20000 [==============================] - 21s 1ms/sample - loss: 0.2247 - accuracy: 0.9043 - val_loss: 0.4485 - val_accuracy: 0.8253\n",
      "Epoch 17/50\n",
      "20000/20000 [==============================] - 21s 1ms/sample - loss: 0.2176 - accuracy: 0.9054 - val_loss: 0.4740 - val_accuracy: 0.8228\n",
      "Epoch 18/50\n",
      "20000/20000 [==============================] - 21s 1ms/sample - loss: 0.2111 - accuracy: 0.9111 - val_loss: 0.4732 - val_accuracy: 0.8246\n",
      "Epoch 19/50\n",
      "20000/20000 [==============================] - 21s 1ms/sample - loss: 0.2023 - accuracy: 0.9161 - val_loss: 0.5243 - val_accuracy: 0.8213\n",
      "Epoch 20/50\n",
      "20000/20000 [==============================] - 21s 1ms/sample - loss: 0.1982 - accuracy: 0.9183 - val_loss: 0.5312 - val_accuracy: 0.8174\n",
      "Epoch 21/50\n",
      "20000/20000 [==============================] - 22s 1ms/sample - loss: 0.1886 - accuracy: 0.9186 - val_loss: 0.5689 - val_accuracy: 0.8149\n",
      "Epoch 22/50\n",
      "20000/20000 [==============================] - 21s 1ms/sample - loss: 0.1819 - accuracy: 0.9245 - val_loss: 0.5799 - val_accuracy: 0.8153\n",
      "Epoch 23/50\n",
      "20000/20000 [==============================] - 21s 1ms/sample - loss: 0.1742 - accuracy: 0.9263 - val_loss: 0.6468 - val_accuracy: 0.8170\n",
      "Epoch 24/50\n",
      "20000/20000 [==============================] - 21s 1ms/sample - loss: 0.1686 - accuracy: 0.9298 - val_loss: 0.6336 - val_accuracy: 0.8168\n",
      "Epoch 25/50\n",
      "20000/20000 [==============================] - 21s 1ms/sample - loss: 0.1639 - accuracy: 0.9323 - val_loss: 0.6917 - val_accuracy: 0.8152\n",
      "Epoch 26/50\n",
      "20000/20000 [==============================] - 21s 1ms/sample - loss: 0.1533 - accuracy: 0.9359 - val_loss: 0.7576 - val_accuracy: 0.8110\n",
      "Epoch 27/50\n",
      "20000/20000 [==============================] - 22s 1ms/sample - loss: 0.1459 - accuracy: 0.9380 - val_loss: 0.8072 - val_accuracy: 0.8059\n",
      "Epoch 28/50\n",
      "20000/20000 [==============================] - 22s 1ms/sample - loss: 0.1419 - accuracy: 0.9399 - val_loss: 0.8236 - val_accuracy: 0.8101\n",
      "Epoch 29/50\n",
      "20000/20000 [==============================] - 21s 1ms/sample - loss: 0.1342 - accuracy: 0.9426 - val_loss: 0.8461 - val_accuracy: 0.8071\n",
      "Epoch 30/50\n",
      "20000/20000 [==============================] - 21s 1ms/sample - loss: 0.1289 - accuracy: 0.9455 - val_loss: 1.0209 - val_accuracy: 0.8071\n",
      "Epoch 31/50\n",
      "20000/20000 [==============================] - 22s 1ms/sample - loss: 0.1245 - accuracy: 0.9459 - val_loss: 0.9463 - val_accuracy: 0.8062\n",
      "Epoch 32/50\n",
      "20000/20000 [==============================] - 22s 1ms/sample - loss: 0.1178 - accuracy: 0.9489 - val_loss: 1.0074 - val_accuracy: 0.8074\n",
      "Epoch 33/50\n",
      "20000/20000 [==============================] - 22s 1ms/sample - loss: 0.1105 - accuracy: 0.9511 - val_loss: 1.0386 - val_accuracy: 0.8027\n",
      "Epoch 34/50\n",
      "20000/20000 [==============================] - 22s 1ms/sample - loss: 0.1073 - accuracy: 0.9531 - val_loss: 1.0916 - val_accuracy: 0.8061\n",
      "Epoch 35/50\n",
      "20000/20000 [==============================] - 22s 1ms/sample - loss: 0.1088 - accuracy: 0.9527 - val_loss: 1.0238 - val_accuracy: 0.8030\n",
      "Epoch 36/50\n",
      "20000/20000 [==============================] - 22s 1ms/sample - loss: 0.0985 - accuracy: 0.9559 - val_loss: 1.1778 - val_accuracy: 0.7979\n",
      "Epoch 37/50\n",
      "20000/20000 [==============================] - 22s 1ms/sample - loss: 0.0948 - accuracy: 0.9566 - val_loss: 1.2720 - val_accuracy: 0.8031\n",
      "Epoch 38/50\n",
      "20000/20000 [==============================] - 22s 1ms/sample - loss: 0.0947 - accuracy: 0.9582 - val_loss: 1.2253 - val_accuracy: 0.8022\n",
      "Epoch 39/50\n",
      "20000/20000 [==============================] - 21s 1ms/sample - loss: 0.0848 - accuracy: 0.9611 - val_loss: 1.3708 - val_accuracy: 0.8070\n",
      "Epoch 40/50\n",
      "20000/20000 [==============================] - 21s 1ms/sample - loss: 0.0872 - accuracy: 0.9600 - val_loss: 1.3672 - val_accuracy: 0.8021\n",
      "Epoch 41/50\n",
      "20000/20000 [==============================] - 21s 1ms/sample - loss: 0.0864 - accuracy: 0.9601 - val_loss: 1.4042 - val_accuracy: 0.8021\n",
      "Epoch 42/50\n",
      "20000/20000 [==============================] - 21s 1ms/sample - loss: 0.0790 - accuracy: 0.9629 - val_loss: 1.4224 - val_accuracy: 0.8059\n",
      "Epoch 43/50\n",
      "20000/20000 [==============================] - 21s 1ms/sample - loss: 0.0736 - accuracy: 0.9656 - val_loss: 1.4549 - val_accuracy: 0.8016\n",
      "Epoch 44/50\n",
      "20000/20000 [==============================] - 21s 1ms/sample - loss: 0.0741 - accuracy: 0.9660 - val_loss: 1.4825 - val_accuracy: 0.7965\n",
      "Epoch 45/50\n",
      "20000/20000 [==============================] - 21s 1ms/sample - loss: 0.0793 - accuracy: 0.9644 - val_loss: 1.5143 - val_accuracy: 0.8013\n",
      "Epoch 46/50\n",
      "20000/20000 [==============================] - 21s 1ms/sample - loss: 0.0695 - accuracy: 0.9675 - val_loss: 1.4804 - val_accuracy: 0.7974\n",
      "Epoch 47/50\n",
      "20000/20000 [==============================] - 21s 1ms/sample - loss: 0.0670 - accuracy: 0.9679 - val_loss: 1.5846 - val_accuracy: 0.8001\n",
      "Epoch 48/50\n",
      "20000/20000 [==============================] - 21s 1ms/sample - loss: 0.0657 - accuracy: 0.9695 - val_loss: 1.6073 - val_accuracy: 0.8015\n",
      "Epoch 49/50\n",
      "20000/20000 [==============================] - 21s 1ms/sample - loss: 0.0634 - accuracy: 0.9706 - val_loss: 1.6870 - val_accuracy: 0.8009\n",
      "Epoch 50/50\n",
      "20000/20000 [==============================] - 21s 1ms/sample - loss: 0.0564 - accuracy: 0.9728 - val_loss: 1.6571 - val_accuracy: 0.7959\n"
     ]
    }
   ],
   "source": [
    "num_epochs = 50\n",
    "history = model.fit(training_padded, training_labels, epochs=num_epochs, validation_data=(testing_padded, testing_labels), verbose=1)"
   ]
  },
  {
   "cell_type": "code",
   "execution_count": 27,
   "metadata": {},
   "outputs": [
    {
     "data": {
      "image/png": "[encoded data removed]",
      "text/plain": [
       "<Figure size 432x288 with 1 Axes>"
      ]
     },
     "metadata": {
      "needs_background": "light"
     },
     "output_type": "display_data"
    },
    {
     "data": {
      "image/png": "[encoded data removed]",
      "text/plain": [
       "<Figure size 432x288 with 1 Axes>"
      ]
     },
     "metadata": {
      "needs_background": "light"
     },
     "output_type": "display_data"
    }
   ],
   "source": [
    "import matplotlib.pyplot as plt\n",
    "\n",
    "def plot_graphs(history, string):\n",
    "    plt.plot(history.history[string])\n",
    "    plt.plot(history.history['val_'+string])\n",
    "    plt.xlabel('Epochs')\n",
    "    plt.ylabel(string)\n",
    "    plt.legend([string, 'val_'+string])\n",
    "    plt.show()\n",
    "    \n",
    "plot_graphs(history, 'accuracy');\n",
    "plot_graphs(history, 'loss');"
   ]
  },
  {
   "cell_type": "code",
   "execution_count": null,
   "metadata": {},
   "outputs": [],
   "source": []
  }
 ],
 "metadata": {
  "kernelspec": {
   "display_name": "Python 3",
   "language": "python",
   "name": "python3"
  },
  "language_info": {
   "codemirror_mode": {
    "name": "ipython",
    "version": 3
   },
   "file_extension": ".py",
   "mimetype": "text/x-python",
   "name": "python",
   "nbconvert_exporter": "python",
   "pygments_lexer": "ipython3",
   "version": "3.6.7"
  }
 },
 "nbformat": 4,
 "nbformat_minor": 2
}
