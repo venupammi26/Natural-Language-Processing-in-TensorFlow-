{
 "cells": [
  {
   "cell_type": "code",
   "execution_count": 23,
   "metadata": {},
   "outputs": [],
   "source": [
    "import json\n",
    "import tensorflow as tf\n",
    "import csv\n",
    "import random\n",
    "import numpy as np\n",
    "\n",
    "from tensorflow.keras.preprocessing.text import Tokenizer\n",
    "from tensorflow.keras.preprocessing.sequence import pad_sequences\n",
    "from tensorflow.keras.utils import to_categorical\n",
    "from tensorflow.keras import regularizers"
   ]
  },
  {
   "cell_type": "code",
   "execution_count": 24,
   "metadata": {},
   "outputs": [],
   "source": [
    "embedding_dim = 100\n",
    "max_length = 16\n",
    "trunc_type = 'post'\n",
    "padding_type = 'post'\n",
    "oov_tok = '<OOV>'\n",
    "training_size = 16000\n",
    "test_portion = .1\n",
    "\n",
    "corpus = []"
   ]
  },
  {
   "cell_type": "code",
   "execution_count": 25,
   "metadata": {},
   "outputs": [
    {
     "name": "stdout",
     "output_type": "stream",
     "text": [
      "--2019-09-06 06:15:08--  https://storage.googleapis.com/laurencemoroney-blog.appspot.com/training_cleaned.csv\n",
      "Resolving storage.googleapis.com (storage.googleapis.com)... 172.217.15.112, 2607:f8b0:4004:811::2010\n",
      "Connecting to storage.googleapis.com (storage.googleapis.com)|172.217.15.112|:443... connected.\n",
      "HTTP request sent, awaiting response... 200 OK\n",
      "Length: 238942690 (228M) [application/octet-stream]\n",
      "Saving to: ‘/tmp/training_cleaned.csv’\n",
      "\n",
      "/tmp/training_clean 100%[===================>] 227.87M   160MB/s    in 1.4s    \n",
      "\n",
      "2019-09-06 06:15:09 (160 MB/s) - ‘/tmp/training_cleaned.csv’ saved [238942690/238942690]\n",
      "\n"
     ]
    }
   ],
   "source": [
    "!wget --no-check-certificate \\\n",
    "    https://storage.googleapis.com/laurencemoroney-blog.appspot.com/training_cleaned.csv \\\n",
    "    -O /tmp/training_cleaned.csv"
   ]
  },
  {
   "cell_type": "code",
   "execution_count": 26,
   "metadata": {},
   "outputs": [],
   "source": [
    "num_sentences = 0\n",
    "\n",
    "with open(\"/tmp/training_cleaned.csv\") as csvfile:\n",
    "    reader = csv.reader(csvfile, delimiter=',')\n",
    "    for row in reader:\n",
    "        list_item = []\n",
    "        list_item.append(row[5])\n",
    "        this_label = row[0]\n",
    "        if this_label == '0':\n",
    "            list_item.append(0)\n",
    "        else:\n",
    "            list_item.append(1)\n",
    "        num_sentences = num_sentences + 1\n",
    "        corpus.append(list_item)"
   ]
  },
  {
   "cell_type": "code",
   "execution_count": 27,
   "metadata": {},
   "outputs": [
    {
     "name": "stdout",
     "output_type": "stream",
     "text": [
      "1600000\n",
      "1600000\n",
      "[\"is upset that he can't update his Facebook by texting it... and might cry as a result  School today also. Blah!\", 0]\n"
     ]
    }
   ],
   "source": [
    "print(num_sentences)\n",
    "print(len(corpus))\n",
    "print(corpus[1])"
   ]
  },
  {
   "cell_type": "code",
   "execution_count": 28,
   "metadata": {},
   "outputs": [],
   "source": [
    "sentences=[]\n",
    "labels=[]\n",
    "random.shuffle(corpus)\n",
    "for x in range(training_size):\n",
    "    sentences.append(corpus[x][0])\n",
    "    labels.append(corpus[x][1])"
   ]
  },
  {
   "cell_type": "code",
   "execution_count": 29,
   "metadata": {},
   "outputs": [],
   "source": [
    "tokenizer = Tokenizer()\n",
    "tokenizer.fit_on_texts(sentences)\n",
    "\n",
    "word_index = tokenizer.word_index\n",
    "vocab_size = len(word_index)\n",
    "\n",
    "sequences = tokenizer.texts_to_sequences(sentences)\n",
    "padded = pad_sequences(sequences, maxlen = max_length, padding=padding_type, truncating=trunc_type)\n",
    "\n",
    "split = int(test_portion*training_size)\n",
    "test_sequences = padded[0: split]\n",
    "training_sequences = padded[split: training_size]\n",
    "test_labels = labels[0: split]\n",
    "training_labels = labels[split: training_size]"
   ]
  },
  {
   "cell_type": "code",
   "execution_count": 37,
   "metadata": {},
   "outputs": [
    {
     "name": "stdout",
     "output_type": "stream",
     "text": [
      "26457\n",
      "1\n"
     ]
    }
   ],
   "source": [
    "print(vocab_size)\n",
    "print(word_index['i'])"
   ]
  },
  {
   "cell_type": "code",
   "execution_count": 39,
   "metadata": {},
   "outputs": [
    {
     "name": "stdout",
     "output_type": "stream",
     "text": [
      "--2019-09-06 06:29:04--  https://storage.googleapis.com/laurencemoroney-blog.appspot.com/glove.6B.100d.txt\n",
      "Resolving storage.googleapis.com (storage.googleapis.com)... 172.217.15.112, 2607:f8b0:4004:811::2010\n",
      "Connecting to storage.googleapis.com (storage.googleapis.com)|172.217.15.112|:443... connected.\n",
      "HTTP request sent, awaiting response... 200 OK\n",
      "Length: 347116733 (331M) [text/plain]\n",
      "Saving to: ‘/tmp/glove.6B.100d.txt’\n",
      "\n",
      "/tmp/glove.6B.100d. 100%[===================>] 331.04M  99.2MB/s    in 3.3s    \n",
      "\n",
      "2019-09-06 06:29:08 (99.2 MB/s) - ‘/tmp/glove.6B.100d.txt’ saved [347116733/347116733]\n",
      "\n"
     ]
    }
   ],
   "source": [
    "!wget --no-check-certificate \\\n",
    "    https://storage.googleapis.com/laurencemoroney-blog.appspot.com/glove.6B.100d.txt \\\n",
    "    -O /tmp/glove.6B.100d.txt\n",
    "embeddings_index = {};\n",
    "with open('/tmp/glove.6B.100d.txt') as f:\n",
    "    for line in f:\n",
    "        values = line.split();\n",
    "        word = values[0];\n",
    "        coefs = np.asarray(values[1:], dtype='float32');\n",
    "        embeddings_index[word] = coefs;\n",
    "        \n",
    "embeddings_matrix = np.zeros((vocab_size+1, embedding_dim));\n",
    "for word, i in word_index.items():\n",
    "    embedding_vector = embeddings_index.get(word);\n",
    "    if embedding_vector is not None:\n",
    "        embeddings_matrix[i] = embedding_vector;"
   ]
  },
  {
   "cell_type": "code",
   "execution_count": 41,
   "metadata": {},
   "outputs": [
    {
     "name": "stdout",
     "output_type": "stream",
     "text": [
      "26458\n"
     ]
    }
   ],
   "source": [
    "print(len(embeddings_matrix))"
   ]
  },
  {
   "cell_type": "code",
   "execution_count": 43,
   "metadata": {
    "scrolled": false
   },
   "outputs": [
    {
     "name": "stdout",
     "output_type": "stream",
     "text": [
      "Model: \"sequential_1\"\n",
      "_________________________________________________________________\n",
      "Layer (type)                 Output Shape              Param #   \n",
      "=================================================================\n",
      "embedding_1 (Embedding)      (None, 16, 100)           2645800   \n",
      "_________________________________________________________________\n",
      "dropout_1 (Dropout)          (None, 16, 100)           0         \n",
      "_________________________________________________________________\n",
      "conv1d_1 (Conv1D)            (None, 12, 64)            32064     \n",
      "_________________________________________________________________\n",
      "max_pooling1d_1 (MaxPooling1 (None, 3, 64)             0         \n",
      "_________________________________________________________________\n",
      "lstm_1 (LSTM)                (None, 64)                33024     \n",
      "_________________________________________________________________\n",
      "dense_1 (Dense)              (None, 1)                 65        \n",
      "=================================================================\n",
      "Total params: 2,710,953\n",
      "Trainable params: 65,153\n",
      "Non-trainable params: 2,645,800\n",
      "_________________________________________________________________\n",
      "Train on 14400 samples, validate on 1600 samples\n",
      "Epoch 1/50\n"
     ]
    },
    {
     "name": "stderr",
     "output_type": "stream",
     "text": [
      "WARNING: Logging before flag parsing goes to stderr.\n",
      "W0906 06:42:01.410952 140435106109248 deprecation.py:323] From /opt/tljh/user/lib/python3.6/site-packages/tensorflow_core/python/ops/nn_impl.py:183: where (from tensorflow.python.ops.array_ops) is deprecated and will be removed in a future version.\n",
      "Instructions for updating:\n",
      "Use tf.where in 2.0, which has the same broadcast rule as np.where\n"
     ]
    },
    {
     "name": "stdout",
     "output_type": "stream",
     "text": [
      "14400/14400 - 5s - loss: 0.6268 - accuracy: 0.6440 - val_loss: 0.5853 - val_accuracy: 0.6894\n",
      "Epoch 2/50\n",
      "14400/14400 - 3s - loss: 0.5745 - accuracy: 0.6948 - val_loss: 0.5772 - val_accuracy: 0.7013\n",
      "Epoch 3/50\n",
      "14400/14400 - 3s - loss: 0.5399 - accuracy: 0.7234 - val_loss: 0.5966 - val_accuracy: 0.6694\n",
      "Epoch 4/50\n",
      "14400/14400 - 3s - loss: 0.5133 - accuracy: 0.7444 - val_loss: 0.5664 - val_accuracy: 0.7131\n",
      "Epoch 5/50\n",
      "14400/14400 - 3s - loss: 0.4892 - accuracy: 0.7625 - val_loss: 0.6145 - val_accuracy: 0.6913\n",
      "Epoch 6/50\n",
      "14400/14400 - 3s - loss: 0.4597 - accuracy: 0.7790 - val_loss: 0.5892 - val_accuracy: 0.6981\n",
      "Epoch 7/50\n",
      "14400/14400 - 3s - loss: 0.4319 - accuracy: 0.7949 - val_loss: 0.6069 - val_accuracy: 0.6981\n",
      "Epoch 8/50\n",
      "14400/14400 - 3s - loss: 0.4086 - accuracy: 0.8072 - val_loss: 0.6341 - val_accuracy: 0.6794\n",
      "Epoch 9/50\n",
      "14400/14400 - 3s - loss: 0.3833 - accuracy: 0.8240 - val_loss: 0.6350 - val_accuracy: 0.6975\n",
      "Epoch 10/50\n",
      "14400/14400 - 3s - loss: 0.3656 - accuracy: 0.8330 - val_loss: 0.6706 - val_accuracy: 0.6919\n",
      "Epoch 11/50\n",
      "14400/14400 - 3s - loss: 0.3463 - accuracy: 0.8458 - val_loss: 0.7051 - val_accuracy: 0.6913\n",
      "Epoch 12/50\n",
      "14400/14400 - 3s - loss: 0.3312 - accuracy: 0.8531 - val_loss: 0.7125 - val_accuracy: 0.6881\n",
      "Epoch 13/50\n",
      "14400/14400 - 3s - loss: 0.3245 - accuracy: 0.8559 - val_loss: 0.7249 - val_accuracy: 0.6781\n",
      "Epoch 14/50\n",
      "14400/14400 - 3s - loss: 0.3065 - accuracy: 0.8601 - val_loss: 0.7266 - val_accuracy: 0.6906\n",
      "Epoch 15/50\n",
      "14400/14400 - 3s - loss: 0.2889 - accuracy: 0.8760 - val_loss: 0.7476 - val_accuracy: 0.6919\n",
      "Epoch 16/50\n",
      "14400/14400 - 3s - loss: 0.2844 - accuracy: 0.8789 - val_loss: 0.7981 - val_accuracy: 0.6800\n",
      "Epoch 17/50\n",
      "14400/14400 - 3s - loss: 0.2755 - accuracy: 0.8833 - val_loss: 0.7943 - val_accuracy: 0.6837\n",
      "Epoch 18/50\n",
      "14400/14400 - 3s - loss: 0.2654 - accuracy: 0.8854 - val_loss: 0.8543 - val_accuracy: 0.6812\n",
      "Epoch 19/50\n",
      "14400/14400 - 3s - loss: 0.2579 - accuracy: 0.8898 - val_loss: 0.8244 - val_accuracy: 0.6906\n",
      "Epoch 20/50\n",
      "14400/14400 - 3s - loss: 0.2550 - accuracy: 0.8915 - val_loss: 0.8763 - val_accuracy: 0.6775\n",
      "Epoch 21/50\n",
      "14400/14400 - 3s - loss: 0.2396 - accuracy: 0.8997 - val_loss: 0.8385 - val_accuracy: 0.6837\n",
      "Epoch 22/50\n",
      "14400/14400 - 3s - loss: 0.2337 - accuracy: 0.9016 - val_loss: 0.8698 - val_accuracy: 0.6806\n",
      "Epoch 23/50\n",
      "14400/14400 - 3s - loss: 0.2316 - accuracy: 0.9033 - val_loss: 0.9095 - val_accuracy: 0.6894\n",
      "Epoch 24/50\n",
      "14400/14400 - 3s - loss: 0.2220 - accuracy: 0.9067 - val_loss: 0.9267 - val_accuracy: 0.6694\n",
      "Epoch 25/50\n",
      "14400/14400 - 3s - loss: 0.2209 - accuracy: 0.9077 - val_loss: 0.8757 - val_accuracy: 0.6750\n",
      "Epoch 26/50\n",
      "14400/14400 - 3s - loss: 0.2146 - accuracy: 0.9117 - val_loss: 0.9626 - val_accuracy: 0.6819\n",
      "Epoch 27/50\n",
      "14400/14400 - 3s - loss: 0.2084 - accuracy: 0.9137 - val_loss: 0.9465 - val_accuracy: 0.6719\n",
      "Epoch 28/50\n",
      "14400/14400 - 3s - loss: 0.1981 - accuracy: 0.9171 - val_loss: 0.9648 - val_accuracy: 0.6694\n",
      "Epoch 29/50\n",
      "14400/14400 - 3s - loss: 0.1964 - accuracy: 0.9181 - val_loss: 0.9820 - val_accuracy: 0.6750\n",
      "Epoch 30/50\n",
      "14400/14400 - 3s - loss: 0.1934 - accuracy: 0.9192 - val_loss: 0.9554 - val_accuracy: 0.6800\n",
      "Epoch 31/50\n",
      "14400/14400 - 3s - loss: 0.1944 - accuracy: 0.9202 - val_loss: 0.9602 - val_accuracy: 0.6719\n",
      "Epoch 32/50\n",
      "14400/14400 - 3s - loss: 0.1850 - accuracy: 0.9231 - val_loss: 1.0048 - val_accuracy: 0.6700\n",
      "Epoch 33/50\n",
      "14400/14400 - 3s - loss: 0.1846 - accuracy: 0.9251 - val_loss: 1.0052 - val_accuracy: 0.6687\n",
      "Epoch 34/50\n",
      "14400/14400 - 3s - loss: 0.1810 - accuracy: 0.9245 - val_loss: 0.9783 - val_accuracy: 0.6644\n",
      "Epoch 35/50\n",
      "14400/14400 - 3s - loss: 0.1773 - accuracy: 0.9281 - val_loss: 1.0232 - val_accuracy: 0.6656\n",
      "Epoch 36/50\n",
      "14400/14400 - 3s - loss: 0.1741 - accuracy: 0.9298 - val_loss: 1.0321 - val_accuracy: 0.6762\n",
      "Epoch 37/50\n",
      "14400/14400 - 3s - loss: 0.1723 - accuracy: 0.9289 - val_loss: 1.0655 - val_accuracy: 0.6737\n",
      "Epoch 38/50\n",
      "14400/14400 - 3s - loss: 0.1651 - accuracy: 0.9330 - val_loss: 1.0520 - val_accuracy: 0.6700\n",
      "Epoch 39/50\n",
      "14400/14400 - 3s - loss: 0.1652 - accuracy: 0.9335 - val_loss: 1.1005 - val_accuracy: 0.6675\n",
      "Epoch 40/50\n",
      "14400/14400 - 3s - loss: 0.1687 - accuracy: 0.9317 - val_loss: 1.0209 - val_accuracy: 0.6800\n",
      "Epoch 41/50\n",
      "14400/14400 - 3s - loss: 0.1529 - accuracy: 0.9381 - val_loss: 1.0551 - val_accuracy: 0.6650\n",
      "Epoch 42/50\n",
      "14400/14400 - 3s - loss: 0.1538 - accuracy: 0.9388 - val_loss: 1.0693 - val_accuracy: 0.6700\n",
      "Epoch 43/50\n",
      "14400/14400 - 3s - loss: 0.1534 - accuracy: 0.9378 - val_loss: 1.0932 - val_accuracy: 0.6694\n",
      "Epoch 44/50\n",
      "14400/14400 - 3s - loss: 0.1532 - accuracy: 0.9396 - val_loss: 1.1474 - val_accuracy: 0.6725\n",
      "Epoch 45/50\n",
      "14400/14400 - 3s - loss: 0.1542 - accuracy: 0.9388 - val_loss: 1.1564 - val_accuracy: 0.6662\n",
      "Epoch 46/50\n",
      "14400/14400 - 3s - loss: 0.1431 - accuracy: 0.9426 - val_loss: 1.1316 - val_accuracy: 0.6656\n",
      "Epoch 47/50\n",
      "14400/14400 - 3s - loss: 0.1456 - accuracy: 0.9413 - val_loss: 1.1587 - val_accuracy: 0.6700\n",
      "Epoch 48/50\n",
      "14400/14400 - 3s - loss: 0.1476 - accuracy: 0.9403 - val_loss: 1.1532 - val_accuracy: 0.6712\n",
      "Epoch 49/50\n",
      "14400/14400 - 3s - loss: 0.1408 - accuracy: 0.9445 - val_loss: 1.1429 - val_accuracy: 0.6712\n",
      "Epoch 50/50\n",
      "14400/14400 - 3s - loss: 0.1426 - accuracy: 0.9434 - val_loss: 1.1398 - val_accuracy: 0.6600\n",
      "Training complete\n"
     ]
    }
   ],
   "source": [
    "model = tf.keras.Sequential([\n",
    "    tf.keras.layers.Embedding(vocab_size+1, embedding_dim, input_length=max_length, weights=[embeddings_matrix], trainable=False),\n",
    "    tf.keras.layers.Dropout(0.2),\n",
    "    tf.keras.layers.Conv1D(64, 5, activation='relu'),\n",
    "    tf.keras.layers.MaxPooling1D(pool_size=4),\n",
    "    tf.keras.layers.LSTM(64),\n",
    "    tf.keras.layers.Dense(1, activation='sigmoid')\n",
    "])\n",
    "\n",
    "model.compile(loss='binary_crossentropy', optimizer='adam', metrics=['accuracy'])\n",
    "model.summary()\n",
    "\n",
    "num_epochs = 50\n",
    "test_labels = np.array(test_labels)\n",
    "training_labels = np.array(training_labels)\n",
    "history = model.fit(training_sequences, training_labels, epochs=num_epochs, validation_data=(test_sequences, test_labels), verbose=2)\n",
    "print('Training complete')"
   ]
  },
  {
   "cell_type": "code",
   "execution_count": 49,
   "metadata": {},
   "outputs": [
    {
     "data": {
      "image/png": "[encoded data removed]",
      "text/plain": [
       "<Figure size 432x288 with 1 Axes>"
      ]
     },
     "metadata": {
      "needs_background": "light"
     },
     "output_type": "display_data"
    },
    {
     "data": {
      "image/png": "[encoded data removed]",
      "text/plain": [
       "<Figure size 432x288 with 1 Axes>"
      ]
     },
     "metadata": {
      "needs_background": "light"
     },
     "output_type": "display_data"
    },
    {
     "data": {
      "text/plain": [
       "<Figure size 432x288 with 0 Axes>"
      ]
     },
     "metadata": {},
     "output_type": "display_data"
    }
   ],
   "source": [
    "import matplotlib.pyplot as plt\n",
    "\n",
    "#-----------------------------------------------------------\n",
    "# Retrieve a list of list results on training and test data\n",
    "# sets for each training epoch\n",
    "#-----------------------------------------------------------\n",
    "acc=history.history['accuracy']\n",
    "val_acc=history.history['val_accuracy']\n",
    "loss=history.history['loss']\n",
    "val_loss=history.history['val_loss']\n",
    "\n",
    "epochs=range(len(acc)) # Get number of epochs\n",
    "\n",
    "#------------------------------------------------\n",
    "# Plot training and validation accuracy per epoch\n",
    "#------------------------------------------------\n",
    "plt.plot(epochs, acc, 'r')\n",
    "plt.plot(epochs, val_acc, 'b')\n",
    "plt.title('Training and validation accuracy')\n",
    "plt.xlabel(\"Epochs\")\n",
    "plt.ylabel(\"Accuracy\")\n",
    "plt.legend([\"Accuracy\", \"Validation Accuracy\"])\n",
    "\n",
    "plt.figure();\n",
    "\n",
    "#------------------------------------------------\n",
    "# Plot training and validation loss per epoch\n",
    "#------------------------------------------------\n",
    "plt.plot(epochs, loss, 'r')\n",
    "plt.plot(epochs, val_loss, 'b')\n",
    "plt.title('Training and validation loss')\n",
    "plt.xlabel(\"Epochs\")\n",
    "plt.ylabel(\"Loss\")\n",
    "plt.legend([\"Loss\", \"Validation Loss\"])\n",
    "\n",
    "plt.figure();"
   ]
  },
  {
   "cell_type": "code",
   "execution_count": null,
   "metadata": {},
   "outputs": [],
   "source": []
  }
 ],
 "metadata": {
  "kernelspec": {
   "display_name": "Python 3",
   "language": "python",
   "name": "python3"
  },
  "language_info": {
   "codemirror_mode": {
    "name": "ipython",
    "version": 3
   },
   "file_extension": ".py",
   "mimetype": "text/x-python",
   "name": "python",
   "nbconvert_exporter": "python",
   "pygments_lexer": "ipython3",
   "version": "3.6.7"
  }
 },
 "nbformat": 4,
 "nbformat_minor": 2
}
