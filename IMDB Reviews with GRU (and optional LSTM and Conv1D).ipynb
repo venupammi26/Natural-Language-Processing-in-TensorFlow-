{
 "cells": [
  {
   "cell_type": "code",
   "execution_count": 1,
   "metadata": {},
   "outputs": [
    {
     "name": "stdout",
     "output_type": "stream",
     "text": [
      "2.0.0-rc0\n"
     ]
    }
   ],
   "source": [
    "import tensorflow as tf\n",
    "\n",
    "print(tf.__version__)"
   ]
  },
  {
   "cell_type": "code",
   "execution_count": 2,
   "metadata": {},
   "outputs": [],
   "source": [
    "import tensorflow_datasets as tfds\n",
    "import numpy as np\n",
    "from tensorflow.keras.preprocessing.text import Tokenizer\n",
    "from tensorflow.keras.preprocessing.sequence import pad_sequences"
   ]
  },
  {
   "cell_type": "code",
   "execution_count": 3,
   "metadata": {},
   "outputs": [],
   "source": [
    "imdb, info = tfds.load('imdb_reviews', with_info=True, as_supervised=True, shuffle_files=True)"
   ]
  },
  {
   "cell_type": "code",
   "execution_count": 4,
   "metadata": {},
   "outputs": [],
   "source": [
    "train_data, test_data = imdb['train'], imdb['test']\n",
    "\n",
    "training_sentences=[]\n",
    "training_labels=[]\n",
    "\n",
    "testing_sentences=[]\n",
    "testing_labels=[]"
   ]
  },
  {
   "cell_type": "code",
   "execution_count": 8,
   "metadata": {},
   "outputs": [],
   "source": [
    "for s, l in train_data:\n",
    "    training_sentences.append(str(s.numpy()))\n",
    "    training_labels.append(l.numpy())\n",
    "\n",
    "for s, l in test_data:\n",
    "    testing_sentences.append(str(s.numpy()))\n",
    "    testing_labels.append(l.numpy())\n",
    "\n",
    "training_labels_final = np.array(training_labels)\n",
    "testing_labels_final = np.array(testing_labels)"
   ]
  },
  {
   "cell_type": "code",
   "execution_count": 11,
   "metadata": {},
   "outputs": [],
   "source": [
    "vocab_size = 10000\n",
    "embedding_dim = 16\n",
    "max_length = 120\n",
    "trunc_type = 'post'\n",
    "oov_tok = '<OOV>'\n",
    "\n",
    "tokenizer = Tokenizer(num_words = vocab_size, oov_token = oov_tok)\n",
    "tokenizer.fit_on_texts(training_sentences)\n",
    "word_index = tokenizer.word_index\n",
    "sequences = tokenizer.texts_to_sequences(training_sentences)\n",
    "padded = pad_sequences(sequences, maxlen = max_length, truncating = trunc_type)\n",
    "\n",
    "testing_sequences = tokenizer.texts_to_sequences(testing_sentences)\n",
    "testing_padded = pad_sequences(testing_sequences, maxlen = max_length)"
   ]
  },
  {
   "cell_type": "code",
   "execution_count": 15,
   "metadata": {},
   "outputs": [
    {
     "name": "stdout",
     "output_type": "stream",
     "text": [
      "b i absolutely loved this movie when i was a kid i cried every time i watched it it wasn't weird to me i totally identified with the characters i would love to see it again and hope i wont be disappointed <OOV> rocks i was really drawn in to the fantasy world and to me the movie was <OOV> i wonder if i ever saw the series and have confused them the acting i thought was strong i loved jack <OOV> he was so dreamy to an 10 year old when i first saw the movie not in 1970 i can still remember the characters vividly the <OOV> was totally believable and i can still <OOV> the evil woods\n",
      "b\"I absolutely LOVED this movie when I was a kid. I cried every time I watched it. It wasn't weird to me. I totally identified with the characters. I would love to see it again (and hope I wont be disappointed!). Pufnstuf rocks!!!! I was really drawn in to the fantasy world. And to me the movie was loooong. I wonder if I ever saw the series and have confused them? The acting I thought was strong. I loved Jack Wilde. He was so dreamy to an 10 year old (when I first saw the movie, not in 1970. I can still remember the characters vividly. The flute was totally believable and I can still 'feel' the evil woods. Witchy poo was scary - I wouldn't want to cross her path.\"\n"
     ]
    }
   ],
   "source": [
    "reverse_word_index = dict([(value, key) for (key, value) in word_index.items()])\n",
    "\n",
    "def decode_review(text):\n",
    "    return ' '.join([reverse_word_index.get(i, '?') for i in text])\n",
    "\n",
    "print(decode_review(padded[1]))\n",
    "print(training_sentences[1])"
   ]
  },
  {
   "cell_type": "code",
   "execution_count": 16,
   "metadata": {},
   "outputs": [
    {
     "name": "stdout",
     "output_type": "stream",
     "text": [
      "Model: \"sequential\"\n",
      "_________________________________________________________________\n",
      "Layer (type)                 Output Shape              Param #   \n",
      "=================================================================\n",
      "embedding (Embedding)        (None, 120, 16)           160000    \n",
      "_________________________________________________________________\n",
      "bidirectional (Bidirectional (None, 64)                9600      \n",
      "_________________________________________________________________\n",
      "dense (Dense)                (None, 6)                 390       \n",
      "_________________________________________________________________\n",
      "dense_1 (Dense)              (None, 1)                 7         \n",
      "=================================================================\n",
      "Total params: 169,997\n",
      "Trainable params: 169,997\n",
      "Non-trainable params: 0\n",
      "_________________________________________________________________\n"
     ]
    }
   ],
   "source": [
    "model = tf.keras.Sequential([\n",
    "    tf.keras.layers.Embedding(vocab_size, embedding_dim, input_length=max_length),\n",
    "    tf.keras.layers.Bidirectional(tf.keras.layers.GRU(32)),\n",
    "    tf.keras.layers.Dense(6, activation='relu'),\n",
    "    tf.keras.layers.Dense(1, activation='sigmoid')\n",
    "])\n",
    "\n",
    "model.compile(loss='binary_crossentropy', optimizer='adam', metrics = ['accuracy'])\n",
    "model.summary()"
   ]
  },
  {
   "cell_type": "code",
   "execution_count": 17,
   "metadata": {
    "scrolled": false
   },
   "outputs": [
    {
     "name": "stdout",
     "output_type": "stream",
     "text": [
      "Train on 25000 samples, validate on 25000 samples\n",
      "Epoch 1/50\n"
     ]
    },
    {
     "name": "stderr",
     "output_type": "stream",
     "text": [
      "WARNING: Logging before flag parsing goes to stderr.\n",
      "W0906 01:26:11.851528 140027769546560 deprecation.py:323] From /opt/tljh/user/lib/python3.6/site-packages/tensorflow_core/python/ops/nn_impl.py:183: where (from tensorflow.python.ops.array_ops) is deprecated and will be removed in a future version.\n",
      "Instructions for updating:\n",
      "Use tf.where in 2.0, which has the same broadcast rule as np.where\n"
     ]
    },
    {
     "name": "stdout",
     "output_type": "stream",
     "text": [
      "25000/25000 [==============================] - 37s 1ms/sample - loss: 0.5016 - accuracy: 0.7338 - val_loss: 0.3595 - val_accuracy: 0.8412\n",
      "Epoch 2/50\n",
      "25000/25000 [==============================] - 35s 1ms/sample - loss: 0.2991 - accuracy: 0.8788 - val_loss: 0.3481 - val_accuracy: 0.8502\n",
      "Epoch 3/50\n",
      "25000/25000 [==============================] - 35s 1ms/sample - loss: 0.2271 - accuracy: 0.9123 - val_loss: 0.3629 - val_accuracy: 0.8472\n",
      "Epoch 4/50\n",
      "25000/25000 [==============================] - 34s 1ms/sample - loss: 0.1672 - accuracy: 0.9404 - val_loss: 0.4316 - val_accuracy: 0.8377\n",
      "Epoch 5/50\n",
      "25000/25000 [==============================] - 34s 1ms/sample - loss: 0.1125 - accuracy: 0.9613 - val_loss: 0.5254 - val_accuracy: 0.8323\n",
      "Epoch 6/50\n",
      "25000/25000 [==============================] - 35s 1ms/sample - loss: 0.0775 - accuracy: 0.9740 - val_loss: 0.5856 - val_accuracy: 0.8280\n",
      "Epoch 7/50\n",
      "25000/25000 [==============================] - 35s 1ms/sample - loss: 0.0519 - accuracy: 0.9831 - val_loss: 0.7329 - val_accuracy: 0.8245\n",
      "Epoch 8/50\n",
      "25000/25000 [==============================] - 34s 1ms/sample - loss: 0.0365 - accuracy: 0.9886 - val_loss: 0.7584 - val_accuracy: 0.8238\n",
      "Epoch 9/50\n",
      "25000/25000 [==============================] - 35s 1ms/sample - loss: 0.0247 - accuracy: 0.9920 - val_loss: 0.9017 - val_accuracy: 0.8214\n",
      "Epoch 10/50\n",
      "25000/25000 [==============================] - 34s 1ms/sample - loss: 0.0205 - accuracy: 0.9932 - val_loss: 0.8690 - val_accuracy: 0.8136\n",
      "Epoch 11/50\n",
      "25000/25000 [==============================] - 35s 1ms/sample - loss: 0.0143 - accuracy: 0.9952 - val_loss: 1.0026 - val_accuracy: 0.8192\n",
      "Epoch 12/50\n",
      "25000/25000 [==============================] - 35s 1ms/sample - loss: 0.0156 - accuracy: 0.9948 - val_loss: 1.0269 - val_accuracy: 0.8164\n",
      "Epoch 13/50\n",
      "25000/25000 [==============================] - 35s 1ms/sample - loss: 0.0117 - accuracy: 0.9960 - val_loss: 1.0848 - val_accuracy: 0.8194\n",
      "Epoch 14/50\n",
      "25000/25000 [==============================] - 34s 1ms/sample - loss: 0.0097 - accuracy: 0.9967 - val_loss: 1.1482 - val_accuracy: 0.8136\n",
      "Epoch 15/50\n",
      "25000/25000 [==============================] - 33s 1ms/sample - loss: 0.0069 - accuracy: 0.9978 - val_loss: 1.2794 - val_accuracy: 0.8086\n",
      "Epoch 16/50\n",
      "25000/25000 [==============================] - 33s 1ms/sample - loss: 0.0101 - accuracy: 0.9969 - val_loss: 1.2030 - val_accuracy: 0.8129\n",
      "Epoch 17/50\n",
      "25000/25000 [==============================] - 33s 1ms/sample - loss: 0.0072 - accuracy: 0.9975 - val_loss: 1.1947 - val_accuracy: 0.8174\n",
      "Epoch 18/50\n",
      "25000/25000 [==============================] - 33s 1ms/sample - loss: 0.0079 - accuracy: 0.9975 - val_loss: 1.2371 - val_accuracy: 0.8159\n",
      "Epoch 19/50\n",
      "25000/25000 [==============================] - 33s 1ms/sample - loss: 0.0076 - accuracy: 0.9974 - val_loss: 1.2092 - val_accuracy: 0.8217\n",
      "Epoch 20/50\n",
      "25000/25000 [==============================] - 33s 1ms/sample - loss: 0.0040 - accuracy: 0.9986 - val_loss: 1.3404 - val_accuracy: 0.8172\n",
      "Epoch 21/50\n",
      "25000/25000 [==============================] - 33s 1ms/sample - loss: 0.0071 - accuracy: 0.9975 - val_loss: 1.3816 - val_accuracy: 0.8194\n",
      "Epoch 22/50\n",
      "25000/25000 [==============================] - 33s 1ms/sample - loss: 0.0052 - accuracy: 0.9983 - val_loss: 1.3079 - val_accuracy: 0.8142\n",
      "Epoch 23/50\n",
      "25000/25000 [==============================] - 33s 1ms/sample - loss: 0.0039 - accuracy: 0.9986 - val_loss: 1.4314 - val_accuracy: 0.8205\n",
      "Epoch 24/50\n",
      "25000/25000 [==============================] - 33s 1ms/sample - loss: 0.0019 - accuracy: 0.9996 - val_loss: 1.5185 - val_accuracy: 0.8194\n",
      "Epoch 25/50\n",
      "25000/25000 [==============================] - 33s 1ms/sample - loss: 2.6891e-04 - accuracy: 0.9999 - val_loss: 1.5739 - val_accuracy: 0.8216\n",
      "Epoch 26/50\n",
      "25000/25000 [==============================] - 33s 1ms/sample - loss: 3.5684e-05 - accuracy: 1.0000 - val_loss: 1.6228 - val_accuracy: 0.8213\n",
      "Epoch 27/50\n",
      "25000/25000 [==============================] - 33s 1ms/sample - loss: 2.0893e-05 - accuracy: 1.0000 - val_loss: 1.6809 - val_accuracy: 0.8217\n",
      "Epoch 28/50\n",
      "25000/25000 [==============================] - 33s 1ms/sample - loss: 1.3847e-05 - accuracy: 1.0000 - val_loss: 1.7322 - val_accuracy: 0.8218\n",
      "Epoch 29/50\n",
      "25000/25000 [==============================] - 33s 1ms/sample - loss: 9.3596e-06 - accuracy: 1.0000 - val_loss: 1.7876 - val_accuracy: 0.8215\n",
      "Epoch 30/50\n",
      "25000/25000 [==============================] - 32s 1ms/sample - loss: 6.3613e-06 - accuracy: 1.0000 - val_loss: 1.8420 - val_accuracy: 0.8217\n",
      "Epoch 31/50\n",
      "25000/25000 [==============================] - 33s 1ms/sample - loss: 4.3064e-06 - accuracy: 1.0000 - val_loss: 1.8945 - val_accuracy: 0.8218\n",
      "Epoch 32/50\n",
      "25000/25000 [==============================] - 32s 1ms/sample - loss: 2.8778e-06 - accuracy: 1.0000 - val_loss: 1.9519 - val_accuracy: 0.8216\n",
      "Epoch 33/50\n",
      "25000/25000 [==============================] - 32s 1ms/sample - loss: 1.9214e-06 - accuracy: 1.0000 - val_loss: 2.0119 - val_accuracy: 0.8219\n",
      "Epoch 34/50\n",
      "25000/25000 [==============================] - 33s 1ms/sample - loss: 1.2733e-06 - accuracy: 1.0000 - val_loss: 2.0710 - val_accuracy: 0.8222\n",
      "Epoch 35/50\n",
      "25000/25000 [==============================] - 33s 1ms/sample - loss: 8.3850e-07 - accuracy: 1.0000 - val_loss: 2.1307 - val_accuracy: 0.8224\n",
      "Epoch 36/50\n",
      "25000/25000 [==============================] - 33s 1ms/sample - loss: 5.5211e-07 - accuracy: 1.0000 - val_loss: 2.1882 - val_accuracy: 0.8228\n",
      "Epoch 37/50\n",
      "25000/25000 [==============================] - 33s 1ms/sample - loss: 3.6185e-07 - accuracy: 1.0000 - val_loss: 2.2507 - val_accuracy: 0.8225\n",
      "Epoch 38/50\n",
      "25000/25000 [==============================] - 33s 1ms/sample - loss: 2.3779e-07 - accuracy: 1.0000 - val_loss: 2.3096 - val_accuracy: 0.8228\n",
      "Epoch 39/50\n",
      "25000/25000 [==============================] - 33s 1ms/sample - loss: 1.5665e-07 - accuracy: 1.0000 - val_loss: 2.3671 - val_accuracy: 0.8230\n",
      "Epoch 40/50\n",
      "25000/25000 [==============================] - 33s 1ms/sample - loss: 1.0376e-07 - accuracy: 1.0000 - val_loss: 2.4287 - val_accuracy: 0.8231\n",
      "Epoch 41/50\n",
      "25000/25000 [==============================] - 33s 1ms/sample - loss: 6.8931e-08 - accuracy: 1.0000 - val_loss: 2.4885 - val_accuracy: 0.8228\n",
      "Epoch 42/50\n",
      "25000/25000 [==============================] - 33s 1ms/sample - loss: 4.6153e-08 - accuracy: 1.0000 - val_loss: 2.5446 - val_accuracy: 0.8230\n",
      "Epoch 43/50\n",
      "25000/25000 [==============================] - 33s 1ms/sample - loss: 3.1165e-08 - accuracy: 1.0000 - val_loss: 2.6051 - val_accuracy: 0.8228\n",
      "Epoch 44/50\n",
      "25000/25000 [==============================] - 33s 1ms/sample - loss: 2.1221e-08 - accuracy: 1.0000 - val_loss: 2.6582 - val_accuracy: 0.8228\n",
      "Epoch 45/50\n",
      "25000/25000 [==============================] - 33s 1ms/sample - loss: 1.4685e-08 - accuracy: 1.0000 - val_loss: 2.7090 - val_accuracy: 0.8226\n",
      "Epoch 46/50\n",
      "25000/25000 [==============================] - 33s 1ms/sample - loss: 1.0314e-08 - accuracy: 1.0000 - val_loss: 2.7641 - val_accuracy: 0.8226\n",
      "Epoch 47/50\n",
      "25000/25000 [==============================] - 33s 1ms/sample - loss: 7.4140e-09 - accuracy: 1.0000 - val_loss: 2.8055 - val_accuracy: 0.8228\n",
      "Epoch 48/50\n",
      "25000/25000 [==============================] - 33s 1ms/sample - loss: 5.4624e-09 - accuracy: 1.0000 - val_loss: 2.8629 - val_accuracy: 0.8224\n",
      "Epoch 49/50\n",
      "25000/25000 [==============================] - 33s 1ms/sample - loss: 4.1371e-09 - accuracy: 1.0000 - val_loss: 2.8951 - val_accuracy: 0.8220\n",
      "Epoch 50/50\n",
      "25000/25000 [==============================] - 32s 1ms/sample - loss: 3.2355e-09 - accuracy: 1.0000 - val_loss: 2.9328 - val_accuracy: 0.8221\n"
     ]
    }
   ],
   "source": [
    "num_epochs = 50\n",
    "history = model.fit(padded, training_labels_final, epochs=num_epochs, validation_data = (testing_padded, testing_labels_final))"
   ]
  },
  {
   "cell_type": "code",
   "execution_count": 19,
   "metadata": {},
   "outputs": [
    {
     "data": {
      "image/png": "[encoded data removed]",
      "text/plain": [
       "<Figure size 432x288 with 1 Axes>"
      ]
     },
     "metadata": {
      "needs_background": "light"
     },
     "output_type": "display_data"
    },
    {
     "data": {
      "image/png": "[encoded data removed]",
      "text/plain": [
       "<Figure size 432x288 with 1 Axes>"
      ]
     },
     "metadata": {
      "needs_background": "light"
     },
     "output_type": "display_data"
    }
   ],
   "source": [
    "import matplotlib.pyplot as plt\n",
    "\n",
    "def plot_graphs(history, string):\n",
    "    plt.plot(history.history[string])\n",
    "    plt.plot(history.history['val_'+string])\n",
    "    plt.xlabel('Epochs')\n",
    "    plt.ylabel(string)\n",
    "    plt.legend([string, 'val_'+string])\n",
    "    plt.show()\n",
    "\n",
    "plot_graphs(history, 'accuracy');\n",
    "plot_graphs(history, 'loss');"
   ]
  },
  {
   "cell_type": "code",
   "execution_count": 21,
   "metadata": {},
   "outputs": [
    {
     "name": "stdout",
     "output_type": "stream",
     "text": [
      "Model: \"sequential_1\"\n",
      "_________________________________________________________________\n",
      "Layer (type)                 Output Shape              Param #   \n",
      "=================================================================\n",
      "embedding_1 (Embedding)      (None, 120, 16)           160000    \n",
      "_________________________________________________________________\n",
      "bidirectional_1 (Bidirection (None, 64)                12544     \n",
      "_________________________________________________________________\n",
      "dense_2 (Dense)              (None, 6)                 390       \n",
      "_________________________________________________________________\n",
      "dense_3 (Dense)              (None, 1)                 7         \n",
      "=================================================================\n",
      "Total params: 172,941\n",
      "Trainable params: 172,941\n",
      "Non-trainable params: 0\n",
      "_________________________________________________________________\n"
     ]
    }
   ],
   "source": [
    "# Model definition with LSTM\n",
    "model = tf.keras.Sequential([\n",
    "    tf.keras.layers.Embedding(vocab_size, embedding_dim, input_length=max_length),\n",
    "    tf.keras.layers.Bidirectional(tf.keras.layers.LSTM(32)),\n",
    "    tf.keras.layers.Dense(6, activation='relu'),\n",
    "    tf.keras.layers.Dense(1, activation='sigmoid')\n",
    "])\n",
    "\n",
    "model.compile(loss='binary_crossentropy', optimizer='adam', metrics=['accuracy'])\n",
    "model.summary()"
   ]
  },
  {
   "cell_type": "code",
   "execution_count": 22,
   "metadata": {
    "scrolled": false
   },
   "outputs": [
    {
     "name": "stdout",
     "output_type": "stream",
     "text": [
      "Train on 25000 samples, validate on 25000 samples\n",
      "Epoch 1/50\n",
      "25000/25000 [==============================] - 36s 1ms/sample - loss: 0.4747 - accuracy: 0.7578 - val_loss: 0.3767 - val_accuracy: 0.8281\n",
      "Epoch 2/50\n",
      "25000/25000 [==============================] - 32s 1ms/sample - loss: 0.2924 - accuracy: 0.8819 - val_loss: 0.3582 - val_accuracy: 0.8446\n",
      "Epoch 3/50\n",
      "25000/25000 [==============================] - 32s 1ms/sample - loss: 0.2393 - accuracy: 0.9075 - val_loss: 0.3727 - val_accuracy: 0.8428\n",
      "Epoch 4/50\n",
      "25000/25000 [==============================] - 32s 1ms/sample - loss: 0.1984 - accuracy: 0.9251 - val_loss: 0.4983 - val_accuracy: 0.8220\n",
      "Epoch 5/50\n",
      "25000/25000 [==============================] - 32s 1ms/sample - loss: 0.1576 - accuracy: 0.9442 - val_loss: 0.4962 - val_accuracy: 0.8218\n",
      "Epoch 6/50\n",
      "25000/25000 [==============================] - 32s 1ms/sample - loss: 0.1154 - accuracy: 0.9599 - val_loss: 0.5113 - val_accuracy: 0.8255\n",
      "Epoch 7/50\n",
      "25000/25000 [==============================] - 32s 1ms/sample - loss: 0.0843 - accuracy: 0.9725 - val_loss: 0.6670 - val_accuracy: 0.8211\n",
      "Epoch 8/50\n",
      "25000/25000 [==============================] - 32s 1ms/sample - loss: 0.0647 - accuracy: 0.9783 - val_loss: 0.6858 - val_accuracy: 0.8141\n",
      "Epoch 9/50\n",
      "25000/25000 [==============================] - 32s 1ms/sample - loss: 0.0450 - accuracy: 0.9858 - val_loss: 0.8171 - val_accuracy: 0.8173\n",
      "Epoch 10/50\n",
      "25000/25000 [==============================] - 32s 1ms/sample - loss: 0.0365 - accuracy: 0.9880 - val_loss: 0.7716 - val_accuracy: 0.8084\n",
      "Epoch 11/50\n",
      "25000/25000 [==============================] - 32s 1ms/sample - loss: 0.0312 - accuracy: 0.9894 - val_loss: 0.9948 - val_accuracy: 0.8181\n",
      "Epoch 12/50\n",
      "25000/25000 [==============================] - 32s 1ms/sample - loss: 0.0230 - accuracy: 0.9924 - val_loss: 0.9203 - val_accuracy: 0.8232\n",
      "Epoch 13/50\n",
      "25000/25000 [==============================] - 32s 1ms/sample - loss: 0.0192 - accuracy: 0.9935 - val_loss: 1.0259 - val_accuracy: 0.8101\n",
      "Epoch 14/50\n",
      "25000/25000 [==============================] - 32s 1ms/sample - loss: 0.0231 - accuracy: 0.9924 - val_loss: 0.9243 - val_accuracy: 0.8168\n",
      "Epoch 15/50\n",
      "25000/25000 [==============================] - 32s 1ms/sample - loss: 0.0130 - accuracy: 0.9956 - val_loss: 1.0223 - val_accuracy: 0.8156\n",
      "Epoch 16/50\n",
      "25000/25000 [==============================] - 32s 1ms/sample - loss: 0.0120 - accuracy: 0.9961 - val_loss: 1.0923 - val_accuracy: 0.8166\n",
      "Epoch 17/50\n",
      "25000/25000 [==============================] - 32s 1ms/sample - loss: 0.0202 - accuracy: 0.9935 - val_loss: 0.9410 - val_accuracy: 0.8151\n",
      "Epoch 18/50\n",
      "25000/25000 [==============================] - 32s 1ms/sample - loss: 0.0177 - accuracy: 0.9942 - val_loss: 1.0391 - val_accuracy: 0.8169\n",
      "Epoch 19/50\n",
      "25000/25000 [==============================] - 32s 1ms/sample - loss: 0.0057 - accuracy: 0.9984 - val_loss: 1.0422 - val_accuracy: 0.8151\n",
      "Epoch 20/50\n",
      "25000/25000 [==============================] - 32s 1ms/sample - loss: 0.0122 - accuracy: 0.9958 - val_loss: 1.1547 - val_accuracy: 0.8149\n",
      "Epoch 21/50\n",
      "25000/25000 [==============================] - 32s 1ms/sample - loss: 0.0099 - accuracy: 0.9969 - val_loss: 1.0349 - val_accuracy: 0.8186\n",
      "Epoch 22/50\n",
      "25000/25000 [==============================] - 32s 1ms/sample - loss: 0.0068 - accuracy: 0.9980 - val_loss: 1.1362 - val_accuracy: 0.8103\n",
      "Epoch 23/50\n",
      "25000/25000 [==============================] - 32s 1ms/sample - loss: 0.0104 - accuracy: 0.9968 - val_loss: 1.0755 - val_accuracy: 0.8095\n",
      "Epoch 24/50\n",
      "25000/25000 [==============================] - 32s 1ms/sample - loss: 0.0068 - accuracy: 0.9982 - val_loss: 1.1570 - val_accuracy: 0.8146\n",
      "Epoch 25/50\n",
      "25000/25000 [==============================] - 32s 1ms/sample - loss: 0.0122 - accuracy: 0.9961 - val_loss: 1.1084 - val_accuracy: 0.8122\n",
      "Epoch 26/50\n",
      "25000/25000 [==============================] - 32s 1ms/sample - loss: 0.0056 - accuracy: 0.9981 - val_loss: 1.1909 - val_accuracy: 0.8112\n",
      "Epoch 27/50\n",
      "25000/25000 [==============================] - 32s 1ms/sample - loss: 0.0052 - accuracy: 0.9983 - val_loss: 1.1700 - val_accuracy: 0.8178\n",
      "Epoch 28/50\n",
      "25000/25000 [==============================] - 32s 1ms/sample - loss: 0.0067 - accuracy: 0.9978 - val_loss: 1.2322 - val_accuracy: 0.8103\n",
      "Epoch 29/50\n",
      "25000/25000 [==============================] - 32s 1ms/sample - loss: 0.0093 - accuracy: 0.9968 - val_loss: 1.1978 - val_accuracy: 0.8143\n",
      "Epoch 30/50\n",
      "25000/25000 [==============================] - 32s 1ms/sample - loss: 0.0020 - accuracy: 0.9994 - val_loss: 1.3313 - val_accuracy: 0.8140\n",
      "Epoch 31/50\n",
      "25000/25000 [==============================] - 32s 1ms/sample - loss: 0.0027 - accuracy: 0.9991 - val_loss: 1.4110 - val_accuracy: 0.8128\n",
      "Epoch 32/50\n",
      "25000/25000 [==============================] - 32s 1ms/sample - loss: 0.0094 - accuracy: 0.9972 - val_loss: 1.2128 - val_accuracy: 0.8031\n",
      "Epoch 33/50\n",
      "25000/25000 [==============================] - 32s 1ms/sample - loss: 0.0079 - accuracy: 0.9975 - val_loss: 1.2874 - val_accuracy: 0.8088\n",
      "Epoch 34/50\n",
      "25000/25000 [==============================] - 32s 1ms/sample - loss: 0.0041 - accuracy: 0.9990 - val_loss: 1.2946 - val_accuracy: 0.8112\n",
      "Epoch 35/50\n",
      "25000/25000 [==============================] - 32s 1ms/sample - loss: 0.0083 - accuracy: 0.9971 - val_loss: 1.1814 - val_accuracy: 0.8077\n",
      "Epoch 36/50\n",
      "25000/25000 [==============================] - 32s 1ms/sample - loss: 0.0036 - accuracy: 0.9990 - val_loss: 1.2034 - val_accuracy: 0.8086\n",
      "Epoch 37/50\n",
      "25000/25000 [==============================] - 32s 1ms/sample - loss: 0.0052 - accuracy: 0.9982 - val_loss: 1.3720 - val_accuracy: 0.8128\n",
      "Epoch 38/50\n",
      "25000/25000 [==============================] - 32s 1ms/sample - loss: 0.0016 - accuracy: 0.9996 - val_loss: 1.3318 - val_accuracy: 0.8071\n",
      "Epoch 39/50\n",
      "25000/25000 [==============================] - 32s 1ms/sample - loss: 4.7137e-04 - accuracy: 0.9999 - val_loss: 1.4639 - val_accuracy: 0.8109\n",
      "Epoch 40/50\n",
      "25000/25000 [==============================] - 32s 1ms/sample - loss: 4.3760e-05 - accuracy: 1.0000 - val_loss: 1.5626 - val_accuracy: 0.8121\n",
      "Epoch 41/50\n",
      "25000/25000 [==============================] - 32s 1ms/sample - loss: 2.4193e-05 - accuracy: 1.0000 - val_loss: 1.6427 - val_accuracy: 0.8132\n",
      "Epoch 42/50\n",
      "25000/25000 [==============================] - 32s 1ms/sample - loss: 1.5717e-05 - accuracy: 1.0000 - val_loss: 1.7059 - val_accuracy: 0.8130\n",
      "Epoch 43/50\n",
      "25000/25000 [==============================] - 32s 1ms/sample - loss: 1.0392e-05 - accuracy: 1.0000 - val_loss: 1.7759 - val_accuracy: 0.8133\n",
      "Epoch 44/50\n",
      "25000/25000 [==============================] - 32s 1ms/sample - loss: 6.9062e-06 - accuracy: 1.0000 - val_loss: 1.8448 - val_accuracy: 0.8132\n",
      "Epoch 45/50\n",
      "25000/25000 [==============================] - 32s 1ms/sample - loss: 4.5900e-06 - accuracy: 1.0000 - val_loss: 1.9159 - val_accuracy: 0.8136\n",
      "Epoch 46/50\n",
      "25000/25000 [==============================] - 32s 1ms/sample - loss: 3.0205e-06 - accuracy: 1.0000 - val_loss: 1.9822 - val_accuracy: 0.8136\n",
      "Epoch 47/50\n",
      "25000/25000 [==============================] - 32s 1ms/sample - loss: 1.9860e-06 - accuracy: 1.0000 - val_loss: 2.0581 - val_accuracy: 0.8138\n",
      "Epoch 48/50\n",
      "25000/25000 [==============================] - 32s 1ms/sample - loss: 1.2962e-06 - accuracy: 1.0000 - val_loss: 2.1302 - val_accuracy: 0.8134\n",
      "Epoch 49/50\n",
      "25000/25000 [==============================] - 32s 1ms/sample - loss: 8.4731e-07 - accuracy: 1.0000 - val_loss: 2.2021 - val_accuracy: 0.8130\n",
      "Epoch 50/50\n",
      "25000/25000 [==============================] - 32s 1ms/sample - loss: 5.5132e-07 - accuracy: 1.0000 - val_loss: 2.2757 - val_accuracy: 0.8129\n"
     ]
    }
   ],
   "source": [
    "history = model.fit(padded, training_labels_final, epochs=num_epochs, validation_data=(testing_padded, testing_labels_final))"
   ]
  },
  {
   "cell_type": "code",
   "execution_count": 23,
   "metadata": {},
   "outputs": [
    {
     "data": {
      "image/png": "[encoded data removed]",
      "text/plain": [
       "<Figure size 432x288 with 1 Axes>"
      ]
     },
     "metadata": {
      "needs_background": "light"
     },
     "output_type": "display_data"
    },
    {
     "data": {
      "image/png": "[encoded data removed]",
      "text/plain": [
       "<Figure size 432x288 with 1 Axes>"
      ]
     },
     "metadata": {
      "needs_background": "light"
     },
     "output_type": "display_data"
    }
   ],
   "source": [
    "plot_graphs(history, 'accuracy');\n",
    "plot_graphs(history, 'loss');"
   ]
  },
  {
   "cell_type": "code",
   "execution_count": 24,
   "metadata": {},
   "outputs": [
    {
     "name": "stdout",
     "output_type": "stream",
     "text": [
      "Model: \"sequential_2\"\n",
      "_________________________________________________________________\n",
      "Layer (type)                 Output Shape              Param #   \n",
      "=================================================================\n",
      "embedding_2 (Embedding)      (None, 120, 16)           160000    \n",
      "_________________________________________________________________\n",
      "conv1d (Conv1D)              (None, 116, 128)          10368     \n",
      "_________________________________________________________________\n",
      "global_average_pooling1d (Gl (None, 128)               0         \n",
      "_________________________________________________________________\n",
      "dense_4 (Dense)              (None, 6)                 774       \n",
      "_________________________________________________________________\n",
      "dense_5 (Dense)              (None, 1)                 7         \n",
      "=================================================================\n",
      "Total params: 171,149\n",
      "Trainable params: 171,149\n",
      "Non-trainable params: 0\n",
      "_________________________________________________________________\n"
     ]
    }
   ],
   "source": [
    "# Model Definition with Conv1D\n",
    "model = tf.keras.Sequential([\n",
    "    tf.keras.layers.Embedding(vocab_size, embedding_dim, input_length=max_length),\n",
    "    tf.keras.layers.Conv1D(128, 5, activation='relu'),\n",
    "    tf.keras.layers.GlobalAveragePooling1D(),\n",
    "    tf.keras.layers.Dense(6, activation='relu'),\n",
    "    tf.keras.layers.Dense(1, activation='sigmoid')\n",
    "])\n",
    "\n",
    "model.compile(loss='binary_crossentropy', optimizer='adam', metrics=['accuracy'])\n",
    "model.summary()"
   ]
  },
  {
   "cell_type": "code",
   "execution_count": 25,
   "metadata": {
    "scrolled": false
   },
   "outputs": [
    {
     "name": "stdout",
     "output_type": "stream",
     "text": [
      "Train on 25000 samples, validate on 25000 samples\n",
      "Epoch 1/50\n",
      "25000/25000 [==============================] - 6s 257us/sample - loss: 0.5416 - accuracy: 0.7595 - val_loss: 0.4441 - val_accuracy: 0.8432\n",
      "Epoch 2/50\n",
      "25000/25000 [==============================] - 6s 227us/sample - loss: 0.3680 - accuracy: 0.8768 - val_loss: 0.4055 - val_accuracy: 0.8423\n",
      "Epoch 3/50\n",
      "25000/25000 [==============================] - 6s 231us/sample - loss: 0.2864 - accuracy: 0.9068 - val_loss: 0.4009 - val_accuracy: 0.8388\n",
      "Epoch 4/50\n",
      "25000/25000 [==============================] - 6s 230us/sample - loss: 0.2343 - accuracy: 0.9269 - val_loss: 0.4382 - val_accuracy: 0.8353\n",
      "Epoch 5/50\n",
      "25000/25000 [==============================] - 6s 229us/sample - loss: 0.1953 - accuracy: 0.9396 - val_loss: 0.4688 - val_accuracy: 0.8275\n",
      "Epoch 6/50\n",
      "25000/25000 [==============================] - 6s 231us/sample - loss: 0.1635 - accuracy: 0.9526 - val_loss: 0.5232 - val_accuracy: 0.8201\n",
      "Epoch 7/50\n",
      "25000/25000 [==============================] - 6s 229us/sample - loss: 0.1396 - accuracy: 0.9628 - val_loss: 0.6199 - val_accuracy: 0.8208\n",
      "Epoch 8/50\n",
      "25000/25000 [==============================] - 6s 233us/sample - loss: 0.1266 - accuracy: 0.9666 - val_loss: 0.6578 - val_accuracy: 0.8174\n",
      "Epoch 9/50\n",
      "25000/25000 [==============================] - 6s 231us/sample - loss: 0.1156 - accuracy: 0.9698 - val_loss: 0.8132 - val_accuracy: 0.8209\n",
      "Epoch 10/50\n",
      "25000/25000 [==============================] - 6s 230us/sample - loss: 0.1103 - accuracy: 0.9714 - val_loss: 0.8896 - val_accuracy: 0.8195\n",
      "Epoch 11/50\n",
      "25000/25000 [==============================] - 6s 233us/sample - loss: 0.1051 - accuracy: 0.9733 - val_loss: 0.8918 - val_accuracy: 0.8173\n",
      "Epoch 12/50\n",
      "25000/25000 [==============================] - 6s 234us/sample - loss: 0.1017 - accuracy: 0.9744 - val_loss: 0.9184 - val_accuracy: 0.8135\n",
      "Epoch 13/50\n",
      "25000/25000 [==============================] - 6s 229us/sample - loss: 0.0991 - accuracy: 0.9752 - val_loss: 0.9352 - val_accuracy: 0.8120\n",
      "Epoch 14/50\n",
      "25000/25000 [==============================] - 6s 229us/sample - loss: 0.1024 - accuracy: 0.9737 - val_loss: 0.9935 - val_accuracy: 0.8125\n",
      "Epoch 15/50\n",
      "25000/25000 [==============================] - 6s 228us/sample - loss: 0.0992 - accuracy: 0.9749 - val_loss: 1.1077 - val_accuracy: 0.8160\n",
      "Epoch 16/50\n",
      "25000/25000 [==============================] - 6s 232us/sample - loss: 0.0982 - accuracy: 0.9754 - val_loss: 1.1385 - val_accuracy: 0.8141\n",
      "Epoch 17/50\n",
      "25000/25000 [==============================] - 6s 232us/sample - loss: 0.0965 - accuracy: 0.9760 - val_loss: 1.1359 - val_accuracy: 0.8132\n",
      "Epoch 18/50\n",
      "25000/25000 [==============================] - 6s 230us/sample - loss: 0.0984 - accuracy: 0.9748 - val_loss: 1.1094 - val_accuracy: 0.8119\n",
      "Epoch 19/50\n",
      "25000/25000 [==============================] - 6s 228us/sample - loss: 0.0964 - accuracy: 0.9760 - val_loss: 1.1398 - val_accuracy: 0.8123\n",
      "Epoch 20/50\n",
      "25000/25000 [==============================] - 6s 229us/sample - loss: 0.0940 - accuracy: 0.9769 - val_loss: 1.2085 - val_accuracy: 0.8175\n",
      "Epoch 21/50\n",
      "25000/25000 [==============================] - 6s 227us/sample - loss: 0.0939 - accuracy: 0.9770 - val_loss: 1.1127 - val_accuracy: 0.8081\n",
      "Epoch 22/50\n",
      "25000/25000 [==============================] - 6s 229us/sample - loss: 0.0928 - accuracy: 0.9774 - val_loss: 1.1825 - val_accuracy: 0.8096\n",
      "Epoch 23/50\n",
      "25000/25000 [==============================] - 6s 228us/sample - loss: 0.0964 - accuracy: 0.9757 - val_loss: 1.1710 - val_accuracy: 0.8098\n",
      "Epoch 24/50\n",
      "25000/25000 [==============================] - 6s 232us/sample - loss: 0.0960 - accuracy: 0.9759 - val_loss: 1.2191 - val_accuracy: 0.8110\n",
      "Epoch 25/50\n",
      "25000/25000 [==============================] - 6s 230us/sample - loss: 0.0925 - accuracy: 0.9771 - val_loss: 1.3140 - val_accuracy: 0.8165\n",
      "Epoch 26/50\n",
      "25000/25000 [==============================] - 6s 230us/sample - loss: 0.0908 - accuracy: 0.9780 - val_loss: 1.4073 - val_accuracy: 0.8136\n",
      "Epoch 27/50\n",
      "25000/25000 [==============================] - 6s 240us/sample - loss: 0.0893 - accuracy: 0.9786 - val_loss: 1.2628 - val_accuracy: 0.8097\n",
      "Epoch 28/50\n",
      "25000/25000 [==============================] - 6s 239us/sample - loss: 0.0896 - accuracy: 0.9785 - val_loss: 1.2377 - val_accuracy: 0.8072\n",
      "Epoch 29/50\n",
      "25000/25000 [==============================] - 6s 241us/sample - loss: 0.0926 - accuracy: 0.9772 - val_loss: 1.3571 - val_accuracy: 0.8101\n",
      "Epoch 30/50\n",
      "25000/25000 [==============================] - 6s 237us/sample - loss: 0.0917 - accuracy: 0.9773 - val_loss: 1.3799 - val_accuracy: 0.8100\n",
      "Epoch 31/50\n",
      "25000/25000 [==============================] - 6s 239us/sample - loss: 0.0979 - accuracy: 0.9751 - val_loss: 1.3055 - val_accuracy: 0.8096\n",
      "Epoch 32/50\n",
      "25000/25000 [==============================] - 6s 240us/sample - loss: 0.0937 - accuracy: 0.9765 - val_loss: 1.3551 - val_accuracy: 0.8132\n",
      "Epoch 33/50\n",
      "25000/25000 [==============================] - 6s 240us/sample - loss: 0.0912 - accuracy: 0.9776 - val_loss: 1.3238 - val_accuracy: 0.8098\n",
      "Epoch 34/50\n",
      "25000/25000 [==============================] - 6s 237us/sample - loss: 0.0887 - accuracy: 0.9786 - val_loss: 1.3818 - val_accuracy: 0.8128\n",
      "Epoch 35/50\n",
      "25000/25000 [==============================] - 6s 234us/sample - loss: 0.0876 - accuracy: 0.9792 - val_loss: 1.3389 - val_accuracy: 0.8104\n",
      "Epoch 36/50\n",
      "25000/25000 [==============================] - 6s 235us/sample - loss: 0.0872 - accuracy: 0.9793 - val_loss: 1.4447 - val_accuracy: 0.8130\n",
      "Epoch 37/50\n",
      "25000/25000 [==============================] - 6s 234us/sample - loss: 0.0872 - accuracy: 0.9793 - val_loss: 1.3478 - val_accuracy: 0.8091\n",
      "Epoch 38/50\n",
      "25000/25000 [==============================] - 6s 235us/sample - loss: 0.0928 - accuracy: 0.9772 - val_loss: 1.3263 - val_accuracy: 0.8082\n",
      "Epoch 39/50\n",
      "25000/25000 [==============================] - 6s 235us/sample - loss: 0.1003 - accuracy: 0.9744 - val_loss: 1.3381 - val_accuracy: 0.8130\n",
      "Epoch 40/50\n",
      "25000/25000 [==============================] - 6s 235us/sample - loss: 0.0916 - accuracy: 0.9773 - val_loss: 1.1900 - val_accuracy: 0.8054\n",
      "Epoch 41/50\n",
      "25000/25000 [==============================] - 6s 235us/sample - loss: 0.0893 - accuracy: 0.9786 - val_loss: 1.3635 - val_accuracy: 0.8116\n",
      "Epoch 42/50\n",
      "25000/25000 [==============================] - 6s 237us/sample - loss: 0.0872 - accuracy: 0.9794 - val_loss: 1.4021 - val_accuracy: 0.8126\n",
      "Epoch 43/50\n",
      "25000/25000 [==============================] - 6s 236us/sample - loss: 0.0866 - accuracy: 0.9794 - val_loss: 1.4118 - val_accuracy: 0.8118\n",
      "Epoch 44/50\n",
      "25000/25000 [==============================] - 6s 238us/sample - loss: 0.0864 - accuracy: 0.9795 - val_loss: 1.4349 - val_accuracy: 0.8113\n",
      "Epoch 45/50\n",
      "25000/25000 [==============================] - 6s 241us/sample - loss: 0.0864 - accuracy: 0.9795 - val_loss: 1.2974 - val_accuracy: 0.8069\n",
      "Epoch 46/50\n",
      "25000/25000 [==============================] - 6s 237us/sample - loss: 0.0865 - accuracy: 0.9795 - val_loss: 1.3267 - val_accuracy: 0.8073\n",
      "Epoch 47/50\n",
      "25000/25000 [==============================] - 6s 228us/sample - loss: 0.1008 - accuracy: 0.9744 - val_loss: 1.3762 - val_accuracy: 0.8087\n",
      "Epoch 48/50\n",
      "25000/25000 [==============================] - 6s 231us/sample - loss: 0.0940 - accuracy: 0.9768 - val_loss: 1.2873 - val_accuracy: 0.8098\n",
      "Epoch 49/50\n",
      "25000/25000 [==============================] - 6s 228us/sample - loss: 0.0889 - accuracy: 0.9784 - val_loss: 1.2625 - val_accuracy: 0.8090\n",
      "Epoch 50/50\n",
      "25000/25000 [==============================] - 6s 231us/sample - loss: 0.0867 - accuracy: 0.9795 - val_loss: 1.2090 - val_accuracy: 0.8042\n"
     ]
    }
   ],
   "source": [
    "history = model.fit(padded, training_labels_final, epochs=num_epochs, validation_data=(testing_padded, testing_labels_final))"
   ]
  },
  {
   "cell_type": "code",
   "execution_count": 26,
   "metadata": {},
   "outputs": [
    {
     "data": {
      "image/png": "[encoded data removed]",
      "text/plain": [
       "<Figure size 432x288 with 1 Axes>"
      ]
     },
     "metadata": {
      "needs_background": "light"
     },
     "output_type": "display_data"
    },
    {
     "data": {
      "image/png": "[encoded data removed]",
      "text/plain": [
       "<Figure size 432x288 with 1 Axes>"
      ]
     },
     "metadata": {
      "needs_background": "light"
     },
     "output_type": "display_data"
    }
   ],
   "source": [
    "plot_graphs(history, 'accuracy');\n",
    "plot_graphs(history, 'loss');"
   ]
  },
  {
   "cell_type": "code",
   "execution_count": null,
   "metadata": {},
   "outputs": [],
   "source": []
  }
 ],
 "metadata": {
  "kernelspec": {
   "display_name": "Python 3",
   "language": "python",
   "name": "python3"
  },
  "language_info": {
   "codemirror_mode": {
    "name": "ipython",
    "version": 3
   },
   "file_extension": ".py",
   "mimetype": "text/x-python",
   "name": "python",
   "nbconvert_exporter": "python",
   "pygments_lexer": "ipython3",
   "version": "3.6.7"
  }
 },
 "nbformat": 4,
 "nbformat_minor": 2
}
